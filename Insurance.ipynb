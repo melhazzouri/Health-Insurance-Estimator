{
 "cells": [
  {
   "cell_type": "markdown",
   "id": "addcaf04",
   "metadata": {},
   "source": [
    "# Health Insurance Estimation "
   ]
  },
  {
   "cell_type": "markdown",
   "id": "2b64c5ab",
   "metadata": {},
   "source": [
    "We are trying to answer a question of which factors influence the cost of Health Insurance"
   ]
  },
  {
   "cell_type": "markdown",
   "id": "fdc5c269",
   "metadata": {},
   "source": [
    "# Roadmap"
   ]
  },
  {
   "cell_type": "markdown",
   "id": "6d119f5c",
   "metadata": {},
   "source": [
    "\n",
    "1. Data Collection and Analysis\n",
    "\n",
    "\n",
    "2. Data distribuation in the dataset\n",
    "\n",
    "\n",
    "3. Data Vizualizing and Understanding\n",
    "\n",
    "\n",
    "4. Correlation between features and the respone\n",
    "\n",
    "\n",
    "5. Data Pre-Processing\n",
    "\n",
    "\n",
    "5. Machine Learning Models\n",
    "\n",
    "\n",
    "6. Models Comaprison\n",
    "\n",
    "\n",
    "7. Building a Predictive System\n",
    "\n",
    "\n",
    "8. Saving the models\n",
    "\n",
    "\n",
    "9. Conclusion and Observations"
   ]
  },
  {
   "cell_type": "markdown",
   "id": "4c6b835b",
   "metadata": {},
   "source": [
    "# Importing the necessary libraries"
   ]
  },
  {
   "cell_type": "code",
   "execution_count": 167,
   "id": "aa897ce7",
   "metadata": {},
   "outputs": [],
   "source": [
    "import numpy as np\n",
    "import matplotlib.pyplot as plt\n",
    "import pandas as pd\n",
    "import seaborn as sns\n",
    "from sklearn.metrics import mean_absolute_error, mean_squared_error\n",
    "from sklearn.model_selection import train_test_split\n",
    "from sklearn.linear_model import LinearRegression\n",
    "from sklearn import metrics\n",
    "import warnings\n",
    "warnings.filterwarnings('ignore')\n",
    "\n",
    "\n",
    "from sklearn.linear_model import LinearRegression\n",
    "from sklearn.ensemble import RandomForestRegressor\n",
    "from sklearn.tree import DecisionTreeRegressor\n",
    "from sklearn.svm import SVR\n",
    "from sklearn.preprocessing import StandardScaler\n",
    "\n",
    "\n",
    "from sklearn.metrics import r2_score, mean_squared_error, accuracy_score, confusion_matrix\n",
    "from sklearn.model_selection import cross_val_score, RandomizedSearchCV, GridSearchCV"
   ]
  },
  {
   "cell_type": "markdown",
   "id": "6e5b2794",
   "metadata": {},
   "source": [
    "# Data Collection and Analysis"
   ]
  },
  {
   "cell_type": "markdown",
   "id": "a7a45296",
   "metadata": {},
   "source": [
    "Loading the data from csv file to Pandas Dataframe"
   ]
  },
  {
   "cell_type": "code",
   "execution_count": 168,
   "id": "1edcf35a",
   "metadata": {},
   "outputs": [
    {
     "data": {
      "text/html": [
       "<div>\n",
       "<style scoped>\n",
       "    .dataframe tbody tr th:only-of-type {\n",
       "        vertical-align: middle;\n",
       "    }\n",
       "\n",
       "    .dataframe tbody tr th {\n",
       "        vertical-align: top;\n",
       "    }\n",
       "\n",
       "    .dataframe thead th {\n",
       "        text-align: right;\n",
       "    }\n",
       "</style>\n",
       "<table border=\"1\" class=\"dataframe\">\n",
       "  <thead>\n",
       "    <tr style=\"text-align: right;\">\n",
       "      <th></th>\n",
       "      <th>age</th>\n",
       "      <th>sex</th>\n",
       "      <th>bmi</th>\n",
       "      <th>children</th>\n",
       "      <th>smoker</th>\n",
       "      <th>region</th>\n",
       "      <th>charges</th>\n",
       "    </tr>\n",
       "  </thead>\n",
       "  <tbody>\n",
       "    <tr>\n",
       "      <th>0</th>\n",
       "      <td>19</td>\n",
       "      <td>female</td>\n",
       "      <td>27.900</td>\n",
       "      <td>0</td>\n",
       "      <td>yes</td>\n",
       "      <td>southwest</td>\n",
       "      <td>16884.92400</td>\n",
       "    </tr>\n",
       "    <tr>\n",
       "      <th>1</th>\n",
       "      <td>18</td>\n",
       "      <td>male</td>\n",
       "      <td>33.770</td>\n",
       "      <td>1</td>\n",
       "      <td>no</td>\n",
       "      <td>southeast</td>\n",
       "      <td>1725.55230</td>\n",
       "    </tr>\n",
       "    <tr>\n",
       "      <th>2</th>\n",
       "      <td>28</td>\n",
       "      <td>male</td>\n",
       "      <td>33.000</td>\n",
       "      <td>3</td>\n",
       "      <td>no</td>\n",
       "      <td>southeast</td>\n",
       "      <td>4449.46200</td>\n",
       "    </tr>\n",
       "    <tr>\n",
       "      <th>3</th>\n",
       "      <td>33</td>\n",
       "      <td>male</td>\n",
       "      <td>22.705</td>\n",
       "      <td>0</td>\n",
       "      <td>no</td>\n",
       "      <td>northwest</td>\n",
       "      <td>21984.47061</td>\n",
       "    </tr>\n",
       "    <tr>\n",
       "      <th>4</th>\n",
       "      <td>32</td>\n",
       "      <td>male</td>\n",
       "      <td>28.880</td>\n",
       "      <td>0</td>\n",
       "      <td>no</td>\n",
       "      <td>northwest</td>\n",
       "      <td>3866.85520</td>\n",
       "    </tr>\n",
       "  </tbody>\n",
       "</table>\n",
       "</div>"
      ],
      "text/plain": [
       "   age     sex     bmi  children smoker     region      charges\n",
       "0   19  female  27.900         0    yes  southwest  16884.92400\n",
       "1   18    male  33.770         1     no  southeast   1725.55230\n",
       "2   28    male  33.000         3     no  southeast   4449.46200\n",
       "3   33    male  22.705         0     no  northwest  21984.47061\n",
       "4   32    male  28.880         0     no  northwest   3866.85520"
      ]
     },
     "execution_count": 168,
     "metadata": {},
     "output_type": "execute_result"
    }
   ],
   "source": [
    "insurance_dataset = pd.read_csv(\"insurance.csv\")\n",
    "insurance_dataset.head()"
   ]
  },
  {
   "cell_type": "markdown",
   "id": "314fc9de",
   "metadata": {},
   "source": [
    "Dataset info and analysis"
   ]
  },
  {
   "cell_type": "code",
   "execution_count": 169,
   "id": "7f7e958c",
   "metadata": {},
   "outputs": [
    {
     "name": "stdout",
     "output_type": "stream",
     "text": [
      "--------------------    Information     --------------------\n",
      "<class 'pandas.core.frame.DataFrame'>\n",
      "RangeIndex: 1338 entries, 0 to 1337\n",
      "Data columns (total 7 columns):\n",
      " #   Column    Non-Null Count  Dtype  \n",
      "---  ------    --------------  -----  \n",
      " 0   age       1338 non-null   int64  \n",
      " 1   sex       1338 non-null   object \n",
      " 2   bmi       1338 non-null   float64\n",
      " 3   children  1338 non-null   int64  \n",
      " 4   smoker    1338 non-null   object \n",
      " 5   region    1338 non-null   object \n",
      " 6   charges   1338 non-null   float64\n",
      "dtypes: float64(2), int64(2), object(3)\n",
      "memory usage: 73.3+ KB\n",
      "None\n",
      "--------------------     Data Shape     --------------------\n",
      "(1338, 7)\n",
      "\n",
      "--------------------  The First 5 Data  --------------------\n",
      "   age     sex     bmi  children smoker     region      charges\n",
      "0   19  female  27.900         0    yes  southwest  16884.92400\n",
      "1   18    male  33.770         1     no  southeast   1725.55230\n",
      "2   28    male  33.000         3     no  southeast   4449.46200\n",
      "3   33    male  22.705         0     no  northwest  21984.47061\n",
      "4   32    male  28.880         0     no  northwest   3866.85520\n",
      "\n",
      "--------------------  The Last 5 Data   --------------------\n",
      "      age     sex    bmi  children smoker     region     charges\n",
      "1333   50    male  30.97         3     no  northwest  10600.5483\n",
      "1334   18  female  31.92         0     no  northeast   2205.9808\n",
      "1335   18  female  36.85         0     no  southeast   1629.8335\n",
      "1336   21  female  25.80         0     no  southwest   2007.9450\n",
      "1337   61  female  29.07         0    yes  northwest  29141.3603\n",
      "\n",
      "--------------------   Missing Values   --------------------\n",
      "age         0\n",
      "sex         0\n",
      "bmi         0\n",
      "children    0\n",
      "smoker      0\n",
      "region      0\n",
      "charges     0\n",
      "dtype: int64\n",
      "\n",
      "----------------------------------------           Describe the Data            ----------------------------------------\n",
      "           count          mean           std        min         25%       50%  \\\n",
      "age       1338.0     39.207025     14.049960    18.0000    27.00000    39.000   \n",
      "bmi       1338.0     30.663397      6.098187    15.9600    26.29625    30.400   \n",
      "children  1338.0      1.094918      1.205493     0.0000     0.00000     1.000   \n",
      "charges   1338.0  13270.422265  12110.011237  1121.8739  4740.28715  9382.033   \n",
      "\n",
      "                   75%          max  \n",
      "age          51.000000     64.00000  \n",
      "bmi          34.693750     53.13000  \n",
      "children      2.000000      5.00000  \n",
      "charges   16639.912515  63770.42801  \n",
      "There ara 1 duplicated rows\n",
      "1 duplicated rows is dropped\n"
     ]
    }
   ],
   "source": [
    "def check_data(dataframe,head=5):\n",
    "    print(20*\"-\" + \"Information\".center(20) + 20*\"-\")\n",
    "    print(dataframe.info())\n",
    "    print(20*\"-\" + \"Data Shape\".center(20) + 20*\"-\")\n",
    "    print(dataframe.shape)\n",
    "    print(\"\\n\" + 20*\"-\" + \"The First 5 Data\".center(20) + 20*\"-\")\n",
    "    print(dataframe.head())\n",
    "    print(\"\\n\" + 20 * \"-\" + \"The Last 5 Data\".center(20) + 20 * \"-\")\n",
    "    print(dataframe.tail())\n",
    "    print(\"\\n\" + 20 * \"-\" + \"Missing Values\".center(20) + 20 * \"-\")\n",
    "    print(dataframe.isnull().sum())\n",
    "    print(\"\\n\" + 40 * \"-\" + \"Describe the Data\".center(40) + 40 * \"-\")\n",
    "    print(dataframe.describe().T)\n",
    "    duplicated = len(dataframe[dataframe.duplicated()])\n",
    "    print(f'There ara {duplicated} duplicated rows')\n",
    "    dataframe = dataframe.drop_duplicates()\n",
    "    print(f'{duplicated} duplicated rows is dropped')\n",
    "check_data(insurance_dataset)"
   ]
  },
  {
   "cell_type": "markdown",
   "id": "b4b743c6",
   "metadata": {},
   "source": [
    "# Data distribuation in the dataset"
   ]
  },
  {
   "cell_type": "markdown",
   "id": "e1770f6c",
   "metadata": {},
   "source": [
    "Distribuation of Age value"
   ]
  },
  {
   "cell_type": "code",
   "execution_count": 170,
   "id": "8888a807",
   "metadata": {},
   "outputs": [
    {
     "data": {
      "image/png": "[encoded data removed]",
      "text/plain": [
       "<Figure size 432x432 with 1 Axes>"
      ]
     },
     "metadata": {},
     "output_type": "display_data"
    }
   ],
   "source": [
    "sns.set()\n",
    "plt.figure(figsize=(6,6))\n",
    "sns.distplot(insurance_dataset['age'])\n",
    "plt.title('Age Distribuation')\n",
    "plt.show()"
   ]
  },
  {
   "cell_type": "markdown",
   "id": "d21e8bf2",
   "metadata": {},
   "source": [
    "Distribuation of BMI"
   ]
  },
  {
   "cell_type": "code",
   "execution_count": 171,
   "id": "86ece977",
   "metadata": {},
   "outputs": [
    {
     "data": {
      "image/png": "[encoded data removed]",
      "text/plain": [
       "<Figure size 432x432 with 1 Axes>"
      ]
     },
     "metadata": {},
     "output_type": "display_data"
    }
   ],
   "source": [
    "sns.set()\n",
    "plt.figure(figsize=(6,6))\n",
    "sns.distplot(insurance_dataset['bmi'])\n",
    "plt.title('BMI Distribuation')\n",
    "plt.show()"
   ]
  },
  {
   "cell_type": "markdown",
   "id": "9e2fd855",
   "metadata": {},
   "source": [
    "Distribuation of Charges"
   ]
  },
  {
   "cell_type": "code",
   "execution_count": 172,
   "id": "ddc797b8",
   "metadata": {},
   "outputs": [
    {
     "data": {
      "image/png": "[encoded data removed]",
      "text/plain": [
       "<Figure size 432x432 with 1 Axes>"
      ]
     },
     "metadata": {},
     "output_type": "display_data"
    }
   ],
   "source": [
    "sns.set()\n",
    "plt.figure(figsize=(6,6))\n",
    "sns.distplot(insurance_dataset['charges'])\n",
    "plt.title('ChargesDistribuation')\n",
    "plt.show()"
   ]
  },
  {
   "cell_type": "markdown",
   "id": "8a979053",
   "metadata": {},
   "source": [
    "Distribuation of Gender"
   ]
  },
  {
   "cell_type": "code",
   "execution_count": 173,
   "id": "739b77b1",
   "metadata": {},
   "outputs": [
    {
     "data": {
      "image/png": "[encoded data removed]",
      "text/plain": [
       "<Figure size 432x432 with 1 Axes>"
      ]
     },
     "metadata": {},
     "output_type": "display_data"
    },
    {
     "name": "stdout",
     "output_type": "stream",
     "text": [
      "male      676\n",
      "female    662\n",
      "Name: sex, dtype: int64\n"
     ]
    }
   ],
   "source": [
    "sns.set()\n",
    "plt.figure(figsize=(6,6))\n",
    "sns.countplot(x = 'sex', data = insurance_dataset)\n",
    "plt.title('Gender Distribuation')\n",
    "plt.show()\n",
    "\n",
    "print(insurance_dataset['sex'].value_counts())"
   ]
  },
  {
   "cell_type": "markdown",
   "id": "cf767e8d",
   "metadata": {},
   "source": [
    "Distribuation of Children"
   ]
  },
  {
   "cell_type": "code",
   "execution_count": 174,
   "id": "7feae0bd",
   "metadata": {},
   "outputs": [
    {
     "data": {
      "image/png": "[encoded data removed]",
      "text/plain": [
       "<Figure size 432x432 with 1 Axes>"
      ]
     },
     "metadata": {},
     "output_type": "display_data"
    },
    {
     "name": "stdout",
     "output_type": "stream",
     "text": [
      "0    574\n",
      "1    324\n",
      "2    240\n",
      "3    157\n",
      "4     25\n",
      "5     18\n",
      "Name: children, dtype: int64\n"
     ]
    }
   ],
   "source": [
    "sns.set()\n",
    "plt.figure(figsize=(6,6))\n",
    "sns.countplot(x = 'children', data = insurance_dataset)\n",
    "plt.title('Children Distribuation')\n",
    "plt.show()\n",
    "\n",
    "print(insurance_dataset['children'].value_counts())"
   ]
  },
  {
   "cell_type": "markdown",
   "id": "92019666",
   "metadata": {},
   "source": [
    "Distribuation of Smoker"
   ]
  },
  {
   "cell_type": "code",
   "execution_count": 175,
   "id": "98bf8448",
   "metadata": {},
   "outputs": [
    {
     "data": {
      "image/png": "[encoded data removed]",
      "text/plain": [
       "<Figure size 432x432 with 1 Axes>"
      ]
     },
     "metadata": {},
     "output_type": "display_data"
    },
    {
     "name": "stdout",
     "output_type": "stream",
     "text": [
      "no     1064\n",
      "yes     274\n",
      "Name: smoker, dtype: int64\n"
     ]
    }
   ],
   "source": [
    "sns.set()\n",
    "plt.figure(figsize=(6,6))\n",
    "sns.countplot(x = 'smoker', data = insurance_dataset)\n",
    "plt.title('Smoker Distribuation')\n",
    "plt.show()\n",
    "\n",
    "print(insurance_dataset['smoker'].value_counts())"
   ]
  },
  {
   "cell_type": "markdown",
   "id": "2d28541f",
   "metadata": {},
   "source": [
    "Distribuation of Region"
   ]
  },
  {
   "cell_type": "code",
   "execution_count": 176,
   "id": "0d7a3618",
   "metadata": {},
   "outputs": [
    {
     "data": {
      "image/png": "[encoded data removed]",
      "text/plain": [
       "<Figure size 432x432 with 1 Axes>"
      ]
     },
     "metadata": {},
     "output_type": "display_data"
    },
    {
     "name": "stdout",
     "output_type": "stream",
     "text": [
      "southeast    364\n",
      "southwest    325\n",
      "northwest    325\n",
      "northeast    324\n",
      "Name: region, dtype: int64\n"
     ]
    }
   ],
   "source": [
    "sns.set()\n",
    "plt.figure(figsize=(6,6))\n",
    "sns.countplot(x = 'region', data = insurance_dataset)\n",
    "plt.title('Region Distribuation')\n",
    "plt.show()\n",
    "\n",
    "print(insurance_dataset['region'].value_counts())"
   ]
  },
  {
   "cell_type": "markdown",
   "id": "90500bd5",
   "metadata": {},
   "source": [
    "# Data Vizualizing and Understanding"
   ]
  },
  {
   "cell_type": "code",
   "execution_count": 177,
   "id": "ef4caba6",
   "metadata": {},
   "outputs": [
    {
     "data": {
      "image/png": "[encoded data removed]",
      "text/plain": [
       "<Figure size 432x432 with 1 Axes>"
      ]
     },
     "metadata": {},
     "output_type": "display_data"
    }
   ],
   "source": [
    "f, ax = plt.subplots(1, 1, figsize=(6, 6))\n",
    "ax = sns.barplot(x='region', y='charges', hue='sex', data=insurance_dataset)"
   ]
  },
  {
   "cell_type": "code",
   "execution_count": 178,
   "id": "6fb5a5ca",
   "metadata": {},
   "outputs": [
    {
     "data": {
      "image/png": "[encoded data removed]",
      "text/plain": [
       "<Figure size 432x432 with 1 Axes>"
      ]
     },
     "metadata": {},
     "output_type": "display_data"
    }
   ],
   "source": [
    "f, ax = plt.subplots(1,1, figsize=(6,6))\n",
    "ax = sns.barplot(x = 'region', y = 'charges',\n",
    "                 hue='smoker', data= insurance_dataset)"
   ]
  },
  {
   "cell_type": "code",
   "execution_count": 179,
   "id": "405e123b",
   "metadata": {},
   "outputs": [
    {
     "data": {
      "image/png": "[encoded data removed]",
      "text/plain": [
       "<Figure size 432x432 with 1 Axes>"
      ]
     },
     "metadata": {},
     "output_type": "display_data"
    }
   ],
   "source": [
    "f, ax = plt.subplots(1,1, figsize=(6,6))\n",
    "ax = sns.barplot(x = 'children', y = 'charges', data=insurance_dataset)"
   ]
  },
  {
   "cell_type": "markdown",
   "id": "5d217abc",
   "metadata": {},
   "source": [
    "Men's insurance charges are higher than women's in regions other than the North West. Smoker's insurance charges are higher than no smoker and southeast is the most smoking area. There is no strong  relationship between the number of children and insurance."
   ]
  },
  {
   "cell_type": "markdown",
   "id": "569d8a16",
   "metadata": {},
   "source": [
    "# Correlation between features and the respone"
   ]
  },
  {
   "cell_type": "code",
   "execution_count": 180,
   "id": "ecbfeaaa",
   "metadata": {},
   "outputs": [
    {
     "data": {
      "text/plain": [
       "age         0.299008\n",
       "bmi         0.198341\n",
       "children    0.067998\n",
       "Name: charges, dtype: float64"
      ]
     },
     "execution_count": 180,
     "metadata": {},
     "output_type": "execute_result"
    }
   ],
   "source": [
    "insurance_dataset.corr().charges[:-1]"
   ]
  },
  {
   "cell_type": "markdown",
   "id": "d025b0de",
   "metadata": {},
   "source": [
    "The correlation of the numerical variables with the charges shows that both 'age' and 'bmi' have a modest correlation with the response variable (charges). However, the relationship is not as strong for number of children."
   ]
  },
  {
   "cell_type": "code",
   "execution_count": 215,
   "id": "c4d2703c",
   "metadata": {},
   "outputs": [],
   "source": [
    "def cat_hist(feature, response, dataset = insurance_dataset):\n",
    "    sns.histplot(x = response, data = dataset, hue = feature, bins = 20, kde = 'True')"
   ]
  },
  {
   "cell_type": "code",
   "execution_count": 216,
   "id": "94563e7e",
   "metadata": {},
   "outputs": [
    {
     "data": {
      "image/png": "[encoded data removed]",
      "text/plain": [
       "<Figure size 432x288 with 1 Axes>"
      ]
     },
     "metadata": {},
     "output_type": "display_data"
    }
   ],
   "source": [
    "cat_hist('smoker', 'charges')"
   ]
  },
  {
   "cell_type": "code",
   "execution_count": 217,
   "id": "e0aeae14",
   "metadata": {},
   "outputs": [
    {
     "data": {
      "image/png": "[encoded data removed]",
      "text/plain": [
       "<Figure size 432x288 with 1 Axes>"
      ]
     },
     "metadata": {},
     "output_type": "display_data"
    }
   ],
   "source": [
    "cat_hist('sex', 'charges')"
   ]
  },
  {
   "cell_type": "code",
   "execution_count": 219,
   "id": "ffefd7b0",
   "metadata": {},
   "outputs": [
    {
     "data": {
      "image/png": "[encoded data removed]",
      "text/plain": [
       "<Figure size 432x288 with 1 Axes>"
      ]
     },
     "metadata": {},
     "output_type": "display_data"
    }
   ],
   "source": [
    "cat_hist('region', 'charges')"
   ]
  },
  {
   "cell_type": "markdown",
   "id": "25b7cd72",
   "metadata": {},
   "source": [
    "The first plot shows that smokers are much more likely to be charged more. However, the second and the third plots show that sex and the  region do not appear to have a visible relationship with the response variable."
   ]
  },
  {
   "cell_type": "markdown",
   "id": "551ec077",
   "metadata": {},
   "source": [
    "# Data Pre-Processing"
   ]
  },
  {
   "cell_type": "markdown",
   "id": "66bf0457",
   "metadata": {},
   "source": [
    "Encoding the Categorical features"
   ]
  },
  {
   "cell_type": "code",
   "execution_count": 181,
   "id": "afa4d773",
   "metadata": {},
   "outputs": [
    {
     "data": {
      "text/html": [
       "<div>\n",
       "<style scoped>\n",
       "    .dataframe tbody tr th:only-of-type {\n",
       "        vertical-align: middle;\n",
       "    }\n",
       "\n",
       "    .dataframe tbody tr th {\n",
       "        vertical-align: top;\n",
       "    }\n",
       "\n",
       "    .dataframe thead th {\n",
       "        text-align: right;\n",
       "    }\n",
       "</style>\n",
       "<table border=\"1\" class=\"dataframe\">\n",
       "  <thead>\n",
       "    <tr style=\"text-align: right;\">\n",
       "      <th></th>\n",
       "      <th>age</th>\n",
       "      <th>sex</th>\n",
       "      <th>bmi</th>\n",
       "      <th>children</th>\n",
       "      <th>smoker</th>\n",
       "      <th>region</th>\n",
       "      <th>charges</th>\n",
       "    </tr>\n",
       "  </thead>\n",
       "  <tbody>\n",
       "    <tr>\n",
       "      <th>0</th>\n",
       "      <td>19</td>\n",
       "      <td>1</td>\n",
       "      <td>27.900</td>\n",
       "      <td>0</td>\n",
       "      <td>0</td>\n",
       "      <td>1</td>\n",
       "      <td>16884.92400</td>\n",
       "    </tr>\n",
       "    <tr>\n",
       "      <th>1</th>\n",
       "      <td>18</td>\n",
       "      <td>0</td>\n",
       "      <td>33.770</td>\n",
       "      <td>1</td>\n",
       "      <td>1</td>\n",
       "      <td>0</td>\n",
       "      <td>1725.55230</td>\n",
       "    </tr>\n",
       "    <tr>\n",
       "      <th>2</th>\n",
       "      <td>28</td>\n",
       "      <td>0</td>\n",
       "      <td>33.000</td>\n",
       "      <td>3</td>\n",
       "      <td>1</td>\n",
       "      <td>0</td>\n",
       "      <td>4449.46200</td>\n",
       "    </tr>\n",
       "    <tr>\n",
       "      <th>3</th>\n",
       "      <td>33</td>\n",
       "      <td>0</td>\n",
       "      <td>22.705</td>\n",
       "      <td>0</td>\n",
       "      <td>1</td>\n",
       "      <td>3</td>\n",
       "      <td>21984.47061</td>\n",
       "    </tr>\n",
       "    <tr>\n",
       "      <th>4</th>\n",
       "      <td>32</td>\n",
       "      <td>0</td>\n",
       "      <td>28.880</td>\n",
       "      <td>0</td>\n",
       "      <td>1</td>\n",
       "      <td>3</td>\n",
       "      <td>3866.85520</td>\n",
       "    </tr>\n",
       "  </tbody>\n",
       "</table>\n",
       "</div>"
      ],
      "text/plain": [
       "   age  sex     bmi  children  smoker  region      charges\n",
       "0   19    1  27.900         0       0       1  16884.92400\n",
       "1   18    0  33.770         1       1       0   1725.55230\n",
       "2   28    0  33.000         3       1       0   4449.46200\n",
       "3   33    0  22.705         0       1       3  21984.47061\n",
       "4   32    0  28.880         0       1       3   3866.85520"
      ]
     },
     "execution_count": 181,
     "metadata": {},
     "output_type": "execute_result"
    }
   ],
   "source": [
    "# Encoding sex column\n",
    "insurance_dataset.replace({'sex':{'male':0,'female':1}}, inplace=True)\n",
    "\n",
    "3 # Encoding 'smoker' column\n",
    "insurance_dataset.replace({'smoker':{'yes':0,'no':1}}, inplace=True)\n",
    "\n",
    "# Encoding 'region' column\n",
    "insurance_dataset.replace({'region':{'southeast':0,'southwest':1,'northeast':2,'northwest':3}}, inplace=True)\n",
    "\n",
    "insurance_dataset.head()"
   ]
  },
  {
   "cell_type": "markdown",
   "id": "5ec517e5",
   "metadata": {},
   "source": [
    "# Machine Learning Model"
   ]
  },
  {
   "cell_type": "markdown",
   "id": "dc59c9e7",
   "metadata": {},
   "source": [
    "# Linear Regression"
   ]
  },
  {
   "cell_type": "markdown",
   "id": "3ec852d6",
   "metadata": {},
   "source": [
    "Splitting the Features and Target"
   ]
  },
  {
   "cell_type": "code",
   "execution_count": 182,
   "id": "8a1a1e5f",
   "metadata": {},
   "outputs": [],
   "source": [
    "X = insurance_dataset.drop(columns='charges', axis=1)\n",
    "Y = insurance_dataset['charges']"
   ]
  },
  {
   "cell_type": "markdown",
   "id": "11af49b5",
   "metadata": {},
   "source": [
    "Splitting the data into Training data & Testing Data"
   ]
  },
  {
   "cell_type": "code",
   "execution_count": 183,
   "id": "5b506d4d",
   "metadata": {},
   "outputs": [],
   "source": [
    "X_train, X_test, Y_train, Y_test = train_test_split(X, Y, test_size=0.2, random_state=2)"
   ]
  },
  {
   "cell_type": "code",
   "execution_count": 184,
   "id": "6c499865",
   "metadata": {},
   "outputs": [
    {
     "name": "stdout",
     "output_type": "stream",
     "text": [
      "(1338, 6) (1070, 6) (268, 6)\n"
     ]
    }
   ],
   "source": [
    "print(X.shape, X_train.shape, X_test.shape)"
   ]
  },
  {
   "cell_type": "markdown",
   "id": "f968042c",
   "metadata": {},
   "source": [
    "Model Training"
   ]
  },
  {
   "cell_type": "markdown",
   "id": "8c2c34df",
   "metadata": {},
   "source": [
    "Linear Regression"
   ]
  },
  {
   "cell_type": "code",
   "execution_count": 185,
   "id": "f1a59f93",
   "metadata": {},
   "outputs": [
    {
     "data": {
      "text/plain": [
       "LinearRegression()"
      ]
     },
     "execution_count": 185,
     "metadata": {},
     "output_type": "execute_result"
    }
   ],
   "source": [
    "regressor = LinearRegression()\n",
    "regressor.fit(X_train, Y_train)"
   ]
  },
  {
   "cell_type": "markdown",
   "id": "5d97a6c5",
   "metadata": {},
   "source": [
    "Model Evaluation"
   ]
  },
  {
   "cell_type": "code",
   "execution_count": 186,
   "id": "02a815c9",
   "metadata": {},
   "outputs": [
    {
     "name": "stdout",
     "output_type": "stream",
     "text": [
      "R2_score (train): 0.751505643411174\n",
      "R 2_score (test):  0.7447273869684077\n",
      "Model Score:  0.7447273869684077\n"
     ]
    }
   ],
   "source": [
    "# prediction on training data\n",
    "training_data_prediction =regressor.predict(X_train)\n",
    "\n",
    "# R squared value\n",
    "r2_train = metrics.r2_score(Y_train, training_data_prediction)\n",
    "print('R2_score (train):', r2_train)\n",
    "\n",
    "# prediction on test data\n",
    "test_data_prediction =regressor.predict(X_test)\n",
    "\n",
    "# R squared value\n",
    "r2_test = metrics.r2_score(Y_test, test_data_prediction)\n",
    "print('R 2_score (test): ', r2_test)\n",
    "\n",
    "print(\"Model Score: \", regressor.score(X_test, Y_test))"
   ]
  },
  {
   "cell_type": "markdown",
   "id": "a2d1242d",
   "metadata": {},
   "source": [
    "# Support Vector Machine (Regression)"
   ]
  },
  {
   "cell_type": "markdown",
   "id": "f4c357b2",
   "metadata": {},
   "source": [
    "Splitting the Features and Target and reshaping"
   ]
  },
  {
   "cell_type": "code",
   "execution_count": 187,
   "id": "72d222dc",
   "metadata": {},
   "outputs": [],
   "source": [
    "X_c = insurance_dataset.drop('charges',axis=1).values\n",
    "Y_c = insurance_dataset['charges'].values.reshape(-1,1)"
   ]
  },
  {
   "cell_type": "markdown",
   "id": "54649b4e",
   "metadata": {},
   "source": [
    "Splitting the data into Training data & Testing Data"
   ]
  },
  {
   "cell_type": "code",
   "execution_count": 188,
   "id": "182a51cb",
   "metadata": {},
   "outputs": [],
   "source": [
    "X_train_c, X_test_c, Y_train_c, Y_test_c = train_test_split(X_c,Y_c,test_size=0.2, random_state=42)"
   ]
  },
  {
   "cell_type": "markdown",
   "id": "fa03a82f",
   "metadata": {},
   "source": [
    "Scaling the data"
   ]
  },
  {
   "cell_type": "code",
   "execution_count": 189,
   "id": "ad60ccc6",
   "metadata": {},
   "outputs": [],
   "source": [
    "#X_train_scaled = StandardScaler().fit_transform(X_train_c)\n",
    "#Y_train_scaled = StandardScaler().fit_transform(Y_train_c)\n",
    "#X_test_scaled = StandardScaler().fit_transform(X_test_c)\n",
    "#Y_test_scaled = StandardScaler().fit_transform(Y_test_c)"
   ]
  },
  {
   "cell_type": "markdown",
   "id": "1e3338a4",
   "metadata": {},
   "source": [
    "SVM and GridSearch"
   ]
  },
  {
   "cell_type": "code",
   "execution_count": 190,
   "id": "ff5ba98b",
   "metadata": {},
   "outputs": [
    {
     "name": "stdout",
     "output_type": "stream",
     "text": [
      "Fitting 10 folds for each of 60 candidates, totalling 600 fits\n",
      "[CV 4/10] END C=0.001, gamma=0.001, kernel=rbf, tol=0.0001;, score=-0.082 total time=   0.9s\n",
      "[CV 7/10] END C=0.001, gamma=0.001, kernel=rbf, tol=0.0001;, score=-0.136 total time=   0.4s\n",
      "[CV 1/10] END C=0.001, gamma=0.001, kernel=sigmoid, tol=0.0001;, score=-0.099 total time=   0.3s\n",
      "[CV 4/10] END C=0.001, gamma=0.001, kernel=sigmoid, tol=0.0001;, score=-0.082 total time=   0.3s\n",
      "[CV 9/10] END C=0.001, gamma=0.001, kernel=sigmoid, tol=0.0001;, score=-0.106 total time=   0.2s\n",
      "[CV 2/10] END C=0.001, gamma=0.01, kernel=rbf, tol=0.0001;, score=-0.148 total time=   0.2s\n",
      "[CV 6/10] END C=0.001, gamma=0.01, kernel=rbf, tol=0.0001;, score=-0.159 total time=   0.2s\n",
      "[CV 10/10] END C=0.001, gamma=0.01, kernel=rbf, tol=0.0001;, score=-0.059 total time=   0.2s\n",
      "[CV 3/10] END C=0.001, gamma=0.01, kernel=sigmoid, tol=0.0001;, score=-0.087 total time=   0.2s\n",
      "[CV 7/10] END C=0.001, gamma=0.01, kernel=sigmoid, tol=0.0001;, score=-0.136 total time=   0.2s\n",
      "[CV 1/10] END C=0.001, gamma=0.1, kernel=rbf, tol=0.0001;, score=-0.099 total time=   0.2s\n",
      "[CV 5/10] END C=0.001, gamma=0.1, kernel=rbf, tol=0.0001;, score=-0.148 total time=   0.2s\n",
      "[CV 9/10] END C=0.001, gamma=0.1, kernel=rbf, tol=0.0001;, score=-0.106 total time=   0.2s\n",
      "[CV 3/10] END C=0.001, gamma=0.1, kernel=sigmoid, tol=0.0001;, score=-0.087 total time=   0.1s\n",
      "[CV 6/10] END C=0.001, gamma=0.1, kernel=sigmoid, tol=0.0001;, score=-0.159 total time=   0.1s\n",
      "[CV 10/10] END C=0.001, gamma=0.1, kernel=sigmoid, tol=0.0001;, score=-0.059 total time=   0.1s\n",
      "[CV 4/10] END C=0.001, gamma=1, kernel=rbf, tol=0.0001;, score=-0.082 total time=   0.3s\n",
      "[CV 8/10] END C=0.001, gamma=1, kernel=rbf, tol=0.0001;, score=-0.111 total time=   0.3s\n",
      "[CV 1/10] END C=0.001, gamma=1, kernel=sigmoid, tol=0.0001;, score=-0.099 total time=   0.1s\n",
      "[CV 3/10] END C=0.001, gamma=1, kernel=sigmoid, tol=0.0001;, score=-0.087 total time=   0.1s\n",
      "[CV 6/10] END C=0.001, gamma=1, kernel=sigmoid, tol=0.0001;, score=-0.159 total time=   0.1s\n",
      "[CV 10/10] END C=0.001, gamma=1, kernel=sigmoid, tol=0.0001;, score=-0.059 total time=   0.2s\n",
      "[CV 4/10] END C=0.001, gamma=scale, kernel=rbf, tol=0.0001;, score=-0.082 total time=   0.2s\n",
      "[CV 8/10] END C=0.001, gamma=scale, kernel=rbf, tol=0.0001;, score=-0.111 total time=   0.2s\n",
      "[CV 2/10] END C=0.001, gamma=scale, kernel=sigmoid, tol=0.0001;, score=-0.148 total time=   0.3s\n",
      "[CV 6/10] END C=0.001, gamma=scale, kernel=sigmoid, tol=0.0001;, score=-0.159 total time=   0.2s\n",
      "[CV 10/10] END C=0.001, gamma=scale, kernel=sigmoid, tol=0.0001;, score=-0.059 total time=   0.2s\n",
      "[CV 4/10] END C=0.01, gamma=0.001, kernel=rbf, tol=0.0001;, score=-0.082 total time=   0.2s\n",
      "[CV 8/10] END C=0.01, gamma=0.001, kernel=rbf, tol=0.0001;, score=-0.111 total time=   0.2s\n",
      "[CV 2/10] END C=0.01, gamma=0.001, kernel=sigmoid, tol=0.0001;, score=-0.148 total time=   0.3s\n",
      "[CV 6/10] END C=0.01, gamma=0.001, kernel=sigmoid, tol=0.0001;, score=-0.159 total time=   0.4s\n",
      "[CV 10/10] END C=0.01, gamma=0.001, kernel=sigmoid, tol=0.0001;, score=-0.059 total time=   0.3s\n",
      "[CV 4/10] END C=0.01, gamma=0.01, kernel=rbf, tol=0.0001;, score=-0.082 total time=   0.2s\n",
      "[CV 8/10] END C=0.01, gamma=0.01, kernel=rbf, tol=0.0001;, score=-0.111 total time=   0.2s\n",
      "[CV 1/10] END C=0.01, gamma=0.01, kernel=sigmoid, tol=0.0001;, score=-0.099 total time=   0.2s\n",
      "[CV 5/10] END C=0.01, gamma=0.01, kernel=sigmoid, tol=0.0001;, score=-0.148 total time=   0.2s\n",
      "[CV 9/10] END C=0.01, gamma=0.01, kernel=sigmoid, tol=0.0001;, score=-0.106 total time=   0.2s\n",
      "[CV 3/10] END C=0.01, gamma=0.1, kernel=rbf, tol=0.0001;, score=-0.087 total time=   0.3s\n",
      "[CV 7/10] END C=0.01, gamma=0.1, kernel=rbf, tol=0.0001;, score=-0.136 total time=   0.3s\n",
      "[CV 10/10] END C=0.01, gamma=0.1, kernel=rbf, tol=0.0001;, score=-0.059 total time=   0.2s\n",
      "[CV 6/10] END C=0.01, gamma=0.1, kernel=sigmoid, tol=0.0001;, score=-0.159 total time=   0.2s\n",
      "[CV 10/10] END C=0.01, gamma=0.1, kernel=sigmoid, tol=0.0001;, score=-0.059 total time=   0.2s\n",
      "[CV 3/10] END C=0.01, gamma=1, kernel=rbf, tol=0.0001;, score=-0.087 total time=   0.3s\n",
      "[CV 7/10] END C=0.01, gamma=1, kernel=rbf, tol=0.0001;, score=-0.136 total time=   0.3s\n",
      "[CV 1/10] END C=0.01, gamma=1, kernel=sigmoid, tol=0.0001;, score=-0.099 total time=   0.1s\n",
      "[CV 3/10] END C=0.01, gamma=1, kernel=sigmoid, tol=0.0001;, score=-0.087 total time=   0.1s\n",
      "[CV 7/10] END C=0.01, gamma=1, kernel=sigmoid, tol=0.0001;, score=-0.136 total time=   0.1s\n",
      "[CV 10/10] END C=0.01, gamma=1, kernel=sigmoid, tol=0.0001;, score=-0.059 total time=   0.1s\n",
      "[CV 4/10] END C=0.01, gamma=scale, kernel=rbf, tol=0.0001;, score=-0.082 total time=   0.2s\n",
      "[CV 8/10] END C=0.01, gamma=scale, kernel=rbf, tol=0.0001;, score=-0.111 total time=   0.2s\n",
      "[CV 1/10] END C=0.01, gamma=scale, kernel=sigmoid, tol=0.0001;, score=-0.099 total time=   0.3s\n",
      "[CV 5/10] END C=0.01, gamma=scale, kernel=sigmoid, tol=0.0001;, score=-0.148 total time=   0.3s\n",
      "[CV 10/10] END C=0.01, gamma=scale, kernel=sigmoid, tol=0.0001;, score=-0.059 total time=   0.2s\n",
      "[CV 3/10] END C=0.1, gamma=0.001, kernel=rbf, tol=0.0001;, score=-0.087 total time=   0.2s\n",
      "[CV 7/10] END C=0.1, gamma=0.001, kernel=rbf, tol=0.0001;, score=-0.136 total time=   0.2s\n",
      "[CV 10/10] END C=0.1, gamma=0.001, kernel=rbf, tol=0.0001;, score=-0.059 total time=   0.2s\n",
      "[CV 4/10] END C=0.1, gamma=0.001, kernel=sigmoid, tol=0.0001;, score=-0.082 total time=   0.2s\n",
      "[CV 7/10] END C=0.1, gamma=0.001, kernel=sigmoid, tol=0.0001;, score=-0.136 total time=   0.2s\n",
      "[CV 1/10] END C=0.1, gamma=0.01, kernel=rbf, tol=0.0001;, score=-0.099 total time=   0.2s\n",
      "[CV 5/10] END C=0.1, gamma=0.01, kernel=rbf, tol=0.0001;, score=-0.148 total time=   0.2s\n",
      "[CV 9/10] END C=0.1, gamma=0.01, kernel=rbf, tol=0.0001;, score=-0.107 total time=   0.2s\n",
      "[CV 3/10] END C=0.1, gamma=0.01, kernel=sigmoid, tol=0.0001;, score=-0.087 total time=   0.2s\n",
      "[CV 7/10] END C=0.1, gamma=0.01, kernel=sigmoid, tol=0.0001;, score=-0.136 total time=   0.2s\n",
      "[CV 1/10] END C=0.1, gamma=0.1, kernel=rbf, tol=0.0001;, score=-0.099 total time=   0.2s\n",
      "[CV 5/10] END C=0.1, gamma=0.1, kernel=rbf, tol=0.0001;, score=-0.148 total time=   0.3s\n",
      "[CV 8/10] END C=0.1, gamma=0.1, kernel=rbf, tol=0.0001;, score=-0.111 total time=   0.4s\n",
      "[CV 3/10] END C=0.1, gamma=0.1, kernel=sigmoid, tol=0.0001;, score=-0.087 total time=   0.2s\n",
      "[CV 7/10] END C=0.1, gamma=0.1, kernel=sigmoid, tol=0.0001;, score=-0.136 total time=   0.2s\n",
      "[CV 10/10] END C=0.1, gamma=0.1, kernel=sigmoid, tol=0.0001;, score=-0.059 total time=   0.2s\n",
      "[CV 4/10] END C=0.1, gamma=1, kernel=rbf, tol=0.0001;, score=-0.082 total time=   0.4s\n",
      "[CV 8/10] END C=0.1, gamma=1, kernel=rbf, tol=0.0001;, score=-0.111 total time=   0.4s\n",
      "[CV 2/10] END C=0.1, gamma=1, kernel=sigmoid, tol=0.0001;, score=-0.148 total time=   0.2s\n",
      "[CV 4/10] END C=0.1, gamma=1, kernel=sigmoid, tol=0.0001;, score=-0.082 total time=   0.3s\n",
      "[CV 10/10] END C=0.1, gamma=1, kernel=sigmoid, tol=0.0001;, score=-0.059 total time=   0.2s\n",
      "[CV 4/10] END C=0.1, gamma=scale, kernel=rbf, tol=0.0001;, score=-0.082 total time=   0.2s\n",
      "[CV 5/10] END C=0.1, gamma=scale, kernel=rbf, tol=0.0001;, score=-0.148 total time=   0.2s\n",
      "[CV 9/10] END C=0.1, gamma=scale, kernel=rbf, tol=0.0001;, score=-0.106 total time=   0.2s\n",
      "[CV 3/10] END C=0.1, gamma=scale, kernel=sigmoid, tol=0.0001;, score=-0.087 total time=   0.2s\n",
      "[CV 7/10] END C=0.1, gamma=scale, kernel=sigmoid, tol=0.0001;, score=-0.136 total time=   0.2s\n",
      "[CV 1/10] END C=1, gamma=0.001, kernel=rbf, tol=0.0001;, score=-0.099 total time=   0.2s\n",
      "[CV 5/10] END C=1, gamma=0.001, kernel=rbf, tol=0.0001;, score=-0.145 total time=   0.2s\n",
      "[CV 9/10] END C=1, gamma=0.001, kernel=rbf, tol=0.0001;, score=-0.106 total time=   0.2s\n",
      "[CV 2/10] END C=1, gamma=0.001, kernel=sigmoid, tol=0.0001;, score=-0.148 total time=   0.2s\n",
      "[CV 6/10] END C=1, gamma=0.001, kernel=sigmoid, tol=0.0001;, score=-0.159 total time=   0.2s\n",
      "[CV 10/10] END C=1, gamma=0.001, kernel=sigmoid, tol=0.0001;, score=-0.059 total time=   0.3s\n",
      "[CV 5/10] END C=1, gamma=0.01, kernel=rbf, tol=0.0001;, score=-0.145 total time=   0.2s\n",
      "[CV 8/10] END C=1, gamma=0.01, kernel=rbf, tol=0.0001;, score=-0.107 total time=   0.2s\n",
      "[CV 2/10] END C=1, gamma=0.01, kernel=sigmoid, tol=0.0001;, score=-0.148 total time=   0.2s\n",
      "[CV 3/10] END C=0.001, gamma=0.001, kernel=rbf, tol=0.0001;, score=-0.087 total time=   0.8s\n",
      "[CV 5/10] END C=0.001, gamma=0.001, kernel=rbf, tol=0.0001;, score=-0.148 total time=   0.2s\n",
      "[CV 9/10] END C=0.001, gamma=0.001, kernel=rbf, tol=0.0001;, score=-0.106 total time=   0.3s\n",
      "[CV 10/10] END C=0.001, gamma=0.001, kernel=rbf, tol=0.0001;, score=-0.059 total time=   0.4s\n",
      "[CV 7/10] END C=0.001, gamma=0.001, kernel=sigmoid, tol=0.0001;, score=-0.136 total time=   0.3s\n",
      "[CV 10/10] END C=0.001, gamma=0.001, kernel=sigmoid, tol=0.0001;, score=-0.059 total time=   0.3s\n",
      "[CV 4/10] END C=0.001, gamma=0.01, kernel=rbf, tol=0.0001;, score=-0.082 total time=   0.2s\n",
      "[CV 8/10] END C=0.001, gamma=0.01, kernel=rbf, tol=0.0001;, score=-0.111 total time=   0.2s\n",
      "[CV 2/10] END C=0.001, gamma=0.01, kernel=sigmoid, tol=0.0001;, score=-0.148 total time=   0.2s\n",
      "[CV 6/10] END C=0.001, gamma=0.01, kernel=sigmoid, tol=0.0001;, score=-0.159 total time=   0.3s\n",
      "[CV 10/10] END C=0.001, gamma=0.01, kernel=sigmoid, tol=0.0001;, score=-0.059 total time=   0.2s\n",
      "[CV 4/10] END C=0.001, gamma=0.1, kernel=rbf, tol=0.0001;, score=-0.082 total time=   0.2s\n",
      "[CV 7/10] END C=0.001, gamma=0.1, kernel=rbf, tol=0.0001;, score=-0.136 total time=   0.2s\n",
      "[CV 1/10] END C=0.001, gamma=0.1, kernel=sigmoid, tol=0.0001;, score=-0.099 total time=   0.1s\n",
      "[CV 4/10] END C=0.001, gamma=0.1, kernel=sigmoid, tol=0.0001;, score=-0.082 total time=   0.2s\n",
      "[CV 8/10] END C=0.001, gamma=0.1, kernel=sigmoid, tol=0.0001;, score=-0.111 total time=   0.1s\n",
      "[CV 1/10] END C=0.001, gamma=1, kernel=rbf, tol=0.0001;, score=-0.099 total time=   0.3s\n",
      "[CV 5/10] END C=0.001, gamma=1, kernel=rbf, tol=0.0001;, score=-0.148 total time=   0.3s\n",
      "[CV 9/10] END C=0.001, gamma=1, kernel=rbf, tol=0.0001;, score=-0.106 total time=   0.3s\n",
      "[CV 4/10] END C=0.001, gamma=1, kernel=sigmoid, tol=0.0001;, score=-0.082 total time=   0.1s\n",
      "[CV 8/10] END C=0.001, gamma=1, kernel=sigmoid, tol=0.0001;, score=-0.111 total time=   0.2s\n",
      "[CV 3/10] END C=0.001, gamma=scale, kernel=rbf, tol=0.0001;, score=-0.087 total time=   0.2s\n",
      "[CV 6/10] END C=0.001, gamma=scale, kernel=rbf, tol=0.0001;, score=-0.159 total time=   0.2s\n",
      "[CV 10/10] END C=0.001, gamma=scale, kernel=rbf, tol=0.0001;, score=-0.059 total time=   0.2s\n",
      "[CV 3/10] END C=0.001, gamma=scale, kernel=sigmoid, tol=0.0001;, score=-0.087 total time=   0.3s\n",
      "[CV 8/10] END C=0.001, gamma=scale, kernel=sigmoid, tol=0.0001;, score=-0.111 total time=   0.2s\n",
      "[CV 2/10] END C=0.01, gamma=0.001, kernel=rbf, tol=0.0001;, score=-0.148 total time=   0.2s\n",
      "[CV 5/10] END C=0.01, gamma=0.001, kernel=rbf, tol=0.0001;, score=-0.148 total time=   0.2s\n",
      "[CV 9/10] END C=0.01, gamma=0.001, kernel=rbf, tol=0.0001;, score=-0.106 total time=   0.4s\n",
      "[CV 5/10] END C=0.01, gamma=0.001, kernel=sigmoid, tol=0.0001;, score=-0.148 total time=   0.4s\n",
      "[CV 9/10] END C=0.01, gamma=0.001, kernel=sigmoid, tol=0.0001;, score=-0.106 total time=   0.3s\n",
      "[CV 3/10] END C=0.01, gamma=0.01, kernel=rbf, tol=0.0001;, score=-0.087 total time=   0.2s\n",
      "[CV 6/10] END C=0.01, gamma=0.01, kernel=rbf, tol=0.0001;, score=-0.159 total time=   0.2s\n",
      "[CV 10/10] END C=0.01, gamma=0.01, kernel=rbf, tol=0.0001;, score=-0.059 total time=   0.2s\n",
      "[CV 4/10] END C=0.01, gamma=0.01, kernel=sigmoid, tol=0.0001;, score=-0.082 total time=   0.2s\n",
      "[CV 8/10] END C=0.01, gamma=0.01, kernel=sigmoid, tol=0.0001;, score=-0.111 total time=   0.2s\n",
      "[CV 2/10] END C=0.01, gamma=0.1, kernel=rbf, tol=0.0001;, score=-0.148 total time=   0.2s\n",
      "[CV 5/10] END C=0.01, gamma=0.1, kernel=rbf, tol=0.0001;, score=-0.148 total time=   0.2s\n",
      "[CV 9/10] END C=0.01, gamma=0.1, kernel=rbf, tol=0.0001;, score=-0.106 total time=   0.2s\n",
      "[CV 3/10] END C=0.01, gamma=0.1, kernel=sigmoid, tol=0.0001;, score=-0.087 total time=   0.1s\n",
      "[CV 7/10] END C=0.01, gamma=0.1, kernel=sigmoid, tol=0.0001;, score=-0.136 total time=   0.2s\n",
      "[CV 1/10] END C=0.01, gamma=1, kernel=rbf, tol=0.0001;, score=-0.099 total time=   0.3s\n",
      "[CV 5/10] END C=0.01, gamma=1, kernel=rbf, tol=0.0001;, score=-0.148 total time=   0.3s\n",
      "[CV 9/10] END C=0.01, gamma=1, kernel=rbf, tol=0.0001;, score=-0.106 total time=   0.3s\n",
      "[CV 4/10] END C=0.01, gamma=1, kernel=sigmoid, tol=0.0001;, score=-0.082 total time=   0.1s\n",
      "[CV 8/10] END C=0.01, gamma=1, kernel=sigmoid, tol=0.0001;, score=-0.111 total time=   0.2s\n",
      "[CV 2/10] END C=0.01, gamma=scale, kernel=rbf, tol=0.0001;, score=-0.148 total time=   0.2s\n",
      "[CV 5/10] END C=0.01, gamma=scale, kernel=rbf, tol=0.0001;, score=-0.148 total time=   0.2s\n",
      "[CV 9/10] END C=0.01, gamma=scale, kernel=rbf, tol=0.0001;, score=-0.106 total time=   0.2s\n",
      "[CV 3/10] END C=0.01, gamma=scale, kernel=sigmoid, tol=0.0001;, score=-0.087 total time=   0.3s\n",
      "[CV 7/10] END C=0.01, gamma=scale, kernel=sigmoid, tol=0.0001;, score=-0.136 total time=   0.2s\n",
      "[CV 1/10] END C=0.1, gamma=0.001, kernel=rbf, tol=0.0001;, score=-0.099 total time=   0.2s\n",
      "[CV 5/10] END C=0.1, gamma=0.001, kernel=rbf, tol=0.0001;, score=-0.148 total time=   0.2s\n",
      "[CV 8/10] END C=0.1, gamma=0.001, kernel=rbf, tol=0.0001;, score=-0.110 total time=   0.2s\n",
      "[CV 2/10] END C=0.1, gamma=0.001, kernel=sigmoid, tol=0.0001;, score=-0.148 total time=   0.2s\n",
      "[CV 6/10] END C=0.1, gamma=0.001, kernel=sigmoid, tol=0.0001;, score=-0.159 total time=   0.2s\n",
      "[CV 10/10] END C=0.1, gamma=0.001, kernel=sigmoid, tol=0.0001;, score=-0.059 total time=   0.2s\n",
      "[CV 4/10] END C=0.1, gamma=0.01, kernel=rbf, tol=0.0001;, score=-0.082 total time=   0.2s\n",
      "[CV 7/10] END C=0.1, gamma=0.01, kernel=rbf, tol=0.0001;, score=-0.136 total time=   0.2s\n",
      "[CV 1/10] END C=0.1, gamma=0.01, kernel=sigmoid, tol=0.0001;, score=-0.099 total time=   0.2s\n",
      "[CV 4/10] END C=0.1, gamma=0.01, kernel=sigmoid, tol=0.0001;, score=-0.082 total time=   0.2s\n",
      "[CV 8/10] END C=0.1, gamma=0.01, kernel=sigmoid, tol=0.0001;, score=-0.111 total time=   0.2s\n",
      "[CV 2/10] END C=0.1, gamma=0.1, kernel=rbf, tol=0.0001;, score=-0.148 total time=   0.2s\n",
      "[CV 6/10] END C=0.1, gamma=0.1, kernel=rbf, tol=0.0001;, score=-0.159 total time=   0.3s\n",
      "[CV 9/10] END C=0.1, gamma=0.1, kernel=rbf, tol=0.0001;, score=-0.106 total time=   0.3s\n",
      "[CV 4/10] END C=0.1, gamma=0.1, kernel=sigmoid, tol=0.0001;, score=-0.082 total time=   0.1s\n",
      "[CV 6/10] END C=0.1, gamma=0.1, kernel=sigmoid, tol=0.0001;, score=-0.159 total time=   0.1s\n",
      "[CV 9/10] END C=0.1, gamma=0.1, kernel=sigmoid, tol=0.0001;, score=-0.106 total time=   0.1s\n",
      "[CV 2/10] END C=0.1, gamma=1, kernel=rbf, tol=0.0001;, score=-0.148 total time=   0.3s\n",
      "[CV 5/10] END C=0.1, gamma=1, kernel=rbf, tol=0.0001;, score=-0.148 total time=   0.3s\n",
      "[CV 9/10] END C=0.1, gamma=1, kernel=rbf, tol=0.0001;, score=-0.106 total time=   0.3s\n",
      "[CV 10/10] END C=0.1, gamma=1, kernel=rbf, tol=0.0001;, score=-0.059 total time=   0.3s\n",
      "[CV 6/10] END C=0.1, gamma=1, kernel=sigmoid, tol=0.0001;, score=-0.159 total time=   0.1s\n",
      "[CV 9/10] END C=0.1, gamma=1, kernel=sigmoid, tol=0.0001;, score=-0.106 total time=   0.2s\n",
      "[CV 2/10] END C=0.1, gamma=scale, kernel=rbf, tol=0.0001;, score=-0.148 total time=   0.3s\n",
      "[CV 8/10] END C=0.1, gamma=scale, kernel=rbf, tol=0.0001;, score=-0.110 total time=   0.2s\n",
      "[CV 2/10] END C=0.1, gamma=scale, kernel=sigmoid, tol=0.0001;, score=-0.148 total time=   0.2s\n",
      "[CV 5/10] END C=0.1, gamma=scale, kernel=sigmoid, tol=0.0001;, score=-0.148 total time=   0.2s\n",
      "[CV 9/10] END C=0.1, gamma=scale, kernel=sigmoid, tol=0.0001;, score=-0.106 total time=   0.2s\n",
      "[CV 3/10] END C=1, gamma=0.001, kernel=rbf, tol=0.0001;, score=-0.086 total time=   0.2s\n",
      "[CV 7/10] END C=1, gamma=0.001, kernel=rbf, tol=0.0001;, score=-0.139 total time=   0.2s\n",
      "[CV 1/10] END C=1, gamma=0.001, kernel=sigmoid, tol=0.0001;, score=-0.099 total time=   0.2s\n",
      "[CV 5/10] END C=1, gamma=0.001, kernel=sigmoid, tol=0.0001;, score=-0.148 total time=   0.2s\n",
      "[CV 8/10] END C=1, gamma=0.001, kernel=sigmoid, tol=0.0001;, score=-0.111 total time=   0.2s\n",
      "[CV 2/10] END C=1, gamma=0.01, kernel=rbf, tol=0.0001;, score=-0.150 total time=   0.2s\n",
      "[CV 4/10] END C=1, gamma=0.01, kernel=rbf, tol=0.0001;, score=-0.083 total time=   0.2s\n",
      "[CV 9/10] END C=1, gamma=0.01, kernel=rbf, tol=0.0001;, score=-0.107 total time=   0.2s\n",
      "[CV 3/10] END C=1, gamma=0.01, kernel=sigmoid, tol=0.0001;, score=-0.087 total time=   0.2s\n"
     ]
    },
    {
     "name": "stdout",
     "output_type": "stream",
     "text": [
      "[CV 2/10] END C=0.001, gamma=0.001, kernel=rbf, tol=0.0001;, score=-0.148 total time=   1.0s\n",
      "[CV 8/10] END C=0.001, gamma=0.001, kernel=rbf, tol=0.0001;, score=-0.111 total time=   0.4s\n",
      "[CV 2/10] END C=0.001, gamma=0.001, kernel=sigmoid, tol=0.0001;, score=-0.148 total time=   0.3s\n",
      "[CV 5/10] END C=0.001, gamma=0.001, kernel=sigmoid, tol=0.0001;, score=-0.148 total time=   0.3s\n",
      "[CV 8/10] END C=0.001, gamma=0.001, kernel=sigmoid, tol=0.0001;, score=-0.111 total time=   0.3s\n",
      "[CV 3/10] END C=0.001, gamma=0.01, kernel=rbf, tol=0.0001;, score=-0.087 total time=   0.2s\n",
      "[CV 7/10] END C=0.001, gamma=0.01, kernel=rbf, tol=0.0001;, score=-0.136 total time=   0.2s\n",
      "[CV 1/10] END C=0.001, gamma=0.01, kernel=sigmoid, tol=0.0001;, score=-0.099 total time=   0.2s\n",
      "[CV 5/10] END C=0.001, gamma=0.01, kernel=sigmoid, tol=0.0001;, score=-0.148 total time=   0.2s\n",
      "[CV 8/10] END C=0.001, gamma=0.01, kernel=sigmoid, tol=0.0001;, score=-0.111 total time=   0.2s\n",
      "[CV 2/10] END C=0.001, gamma=0.1, kernel=rbf, tol=0.0001;, score=-0.148 total time=   0.2s\n",
      "[CV 6/10] END C=0.001, gamma=0.1, kernel=rbf, tol=0.0001;, score=-0.159 total time=   0.2s\n",
      "[CV 10/10] END C=0.001, gamma=0.1, kernel=rbf, tol=0.0001;, score=-0.059 total time=   0.2s\n",
      "[CV 5/10] END C=0.001, gamma=0.1, kernel=sigmoid, tol=0.0001;, score=-0.148 total time=   0.2s\n",
      "[CV 9/10] END C=0.001, gamma=0.1, kernel=sigmoid, tol=0.0001;, score=-0.106 total time=   0.1s\n",
      "[CV 2/10] END C=0.001, gamma=1, kernel=rbf, tol=0.0001;, score=-0.148 total time=   0.3s\n",
      "[CV 6/10] END C=0.001, gamma=1, kernel=rbf, tol=0.0001;, score=-0.159 total time=   0.3s\n",
      "[CV 10/10] END C=0.001, gamma=1, kernel=rbf, tol=0.0001;, score=-0.059 total time=   0.3s\n",
      "[CV 5/10] END C=0.001, gamma=1, kernel=sigmoid, tol=0.0001;, score=-0.148 total time=   0.1s\n",
      "[CV 9/10] END C=0.001, gamma=1, kernel=sigmoid, tol=0.0001;, score=-0.106 total time=   0.1s\n",
      "[CV 2/10] END C=0.001, gamma=scale, kernel=rbf, tol=0.0001;, score=-0.148 total time=   0.3s\n",
      "[CV 7/10] END C=0.001, gamma=scale, kernel=rbf, tol=0.0001;, score=-0.136 total time=   0.2s\n",
      "[CV 1/10] END C=0.001, gamma=scale, kernel=sigmoid, tol=0.0001;, score=-0.099 total time=   0.3s\n",
      "[CV 5/10] END C=0.001, gamma=scale, kernel=sigmoid, tol=0.0001;, score=-0.148 total time=   0.3s\n",
      "[CV 9/10] END C=0.001, gamma=scale, kernel=sigmoid, tol=0.0001;, score=-0.106 total time=   0.3s\n",
      "[CV 3/10] END C=0.01, gamma=0.001, kernel=rbf, tol=0.0001;, score=-0.087 total time=   0.2s\n",
      "[CV 7/10] END C=0.01, gamma=0.001, kernel=rbf, tol=0.0001;, score=-0.136 total time=   0.2s\n",
      "[CV 10/10] END C=0.01, gamma=0.001, kernel=rbf, tol=0.0001;, score=-0.059 total time=   0.2s\n",
      "[CV 3/10] END C=0.01, gamma=0.001, kernel=sigmoid, tol=0.0001;, score=-0.087 total time=   0.3s\n",
      "[CV 8/10] END C=0.01, gamma=0.001, kernel=sigmoid, tol=0.0001;, score=-0.111 total time=   0.4s\n",
      "[CV 1/10] END C=0.01, gamma=0.01, kernel=rbf, tol=0.0001;, score=-0.099 total time=   0.2s\n",
      "[CV 5/10] END C=0.01, gamma=0.01, kernel=rbf, tol=0.0001;, score=-0.148 total time=   0.2s\n",
      "[CV 9/10] END C=0.01, gamma=0.01, kernel=rbf, tol=0.0001;, score=-0.106 total time=   0.2s\n",
      "[CV 3/10] END C=0.01, gamma=0.01, kernel=sigmoid, tol=0.0001;, score=-0.087 total time=   0.2s\n",
      "[CV 7/10] END C=0.01, gamma=0.01, kernel=sigmoid, tol=0.0001;, score=-0.136 total time=   0.2s\n",
      "[CV 10/10] END C=0.01, gamma=0.01, kernel=sigmoid, tol=0.0001;, score=-0.059 total time=   0.2s\n",
      "[CV 4/10] END C=0.01, gamma=0.1, kernel=rbf, tol=0.0001;, score=-0.082 total time=   0.3s\n",
      "[CV 8/10] END C=0.01, gamma=0.1, kernel=rbf, tol=0.0001;, score=-0.111 total time=   0.2s\n",
      "[CV 2/10] END C=0.01, gamma=0.1, kernel=sigmoid, tol=0.0001;, score=-0.148 total time=   0.1s\n",
      "[CV 5/10] END C=0.01, gamma=0.1, kernel=sigmoid, tol=0.0001;, score=-0.148 total time=   0.1s\n",
      "[CV 8/10] END C=0.01, gamma=0.1, kernel=sigmoid, tol=0.0001;, score=-0.111 total time=   0.2s\n",
      "[CV 2/10] END C=0.01, gamma=1, kernel=rbf, tol=0.0001;, score=-0.148 total time=   0.3s\n",
      "[CV 6/10] END C=0.01, gamma=1, kernel=rbf, tol=0.0001;, score=-0.159 total time=   0.3s\n",
      "[CV 10/10] END C=0.01, gamma=1, kernel=rbf, tol=0.0001;, score=-0.059 total time=   0.3s\n",
      "[CV 5/10] END C=0.01, gamma=1, kernel=sigmoid, tol=0.0001;, score=-0.148 total time=   0.1s\n",
      "[CV 9/10] END C=0.01, gamma=1, kernel=sigmoid, tol=0.0001;, score=-0.106 total time=   0.1s\n",
      "[CV 3/10] END C=0.01, gamma=scale, kernel=rbf, tol=0.0001;, score=-0.087 total time=   0.2s\n",
      "[CV 7/10] END C=0.01, gamma=scale, kernel=rbf, tol=0.0001;, score=-0.136 total time=   0.2s\n",
      "[CV 10/10] END C=0.01, gamma=scale, kernel=rbf, tol=0.0001;, score=-0.059 total time=   0.4s\n",
      "[CV 4/10] END C=0.01, gamma=scale, kernel=sigmoid, tol=0.0001;, score=-0.082 total time=   0.3s\n",
      "[CV 8/10] END C=0.01, gamma=scale, kernel=sigmoid, tol=0.0001;, score=-0.111 total time=   0.2s\n",
      "[CV 2/10] END C=0.1, gamma=0.001, kernel=rbf, tol=0.0001;, score=-0.148 total time=   0.2s\n",
      "[CV 6/10] END C=0.1, gamma=0.001, kernel=rbf, tol=0.0001;, score=-0.159 total time=   0.2s\n",
      "[CV 1/10] END C=0.1, gamma=0.001, kernel=sigmoid, tol=0.0001;, score=-0.099 total time=   0.2s\n",
      "[CV 5/10] END C=0.1, gamma=0.001, kernel=sigmoid, tol=0.0001;, score=-0.148 total time=   0.2s\n",
      "[CV 9/10] END C=0.1, gamma=0.001, kernel=sigmoid, tol=0.0001;, score=-0.106 total time=   0.2s\n",
      "[CV 3/10] END C=0.1, gamma=0.01, kernel=rbf, tol=0.0001;, score=-0.087 total time=   0.2s\n",
      "[CV 6/10] END C=0.1, gamma=0.01, kernel=rbf, tol=0.0001;, score=-0.158 total time=   0.2s\n",
      "[CV 10/10] END C=0.1, gamma=0.01, kernel=rbf, tol=0.0001;, score=-0.059 total time=   0.2s\n",
      "[CV 5/10] END C=0.1, gamma=0.01, kernel=sigmoid, tol=0.0001;, score=-0.148 total time=   0.2s\n",
      "[CV 9/10] END C=0.1, gamma=0.01, kernel=sigmoid, tol=0.0001;, score=-0.106 total time=   0.2s\n",
      "[CV 3/10] END C=0.1, gamma=0.1, kernel=rbf, tol=0.0001;, score=-0.087 total time=   0.3s\n",
      "[CV 7/10] END C=0.1, gamma=0.1, kernel=rbf, tol=0.0001;, score=-0.136 total time=   0.2s\n",
      "[CV 1/10] END C=0.1, gamma=0.1, kernel=sigmoid, tol=0.0001;, score=-0.099 total time=   0.2s\n",
      "[CV 2/10] END C=0.1, gamma=0.1, kernel=sigmoid, tol=0.0001;, score=-0.148 total time=   0.3s\n",
      "[CV 8/10] END C=0.1, gamma=0.1, kernel=sigmoid, tol=0.0001;, score=-0.111 total time=   0.3s\n",
      "[CV 3/10] END C=0.1, gamma=1, kernel=rbf, tol=0.0001;, score=-0.087 total time=   0.4s\n",
      "[CV 7/10] END C=0.1, gamma=1, kernel=rbf, tol=0.0001;, score=-0.136 total time=   0.5s\n",
      "[CV 3/10] END C=0.1, gamma=1, kernel=sigmoid, tol=0.0001;, score=-0.087 total time=   0.1s\n",
      "[CV 5/10] END C=0.1, gamma=1, kernel=sigmoid, tol=0.0001;, score=-0.148 total time=   0.2s\n",
      "[CV 8/10] END C=0.1, gamma=1, kernel=sigmoid, tol=0.0001;, score=-0.111 total time=   0.2s\n",
      "[CV 3/10] END C=0.1, gamma=scale, kernel=rbf, tol=0.0001;, score=-0.087 total time=   0.2s\n",
      "[CV 7/10] END C=0.1, gamma=scale, kernel=rbf, tol=0.0001;, score=-0.136 total time=   0.2s\n",
      "[CV 10/10] END C=0.1, gamma=scale, kernel=rbf, tol=0.0001;, score=-0.059 total time=   0.2s\n",
      "[CV 4/10] END C=0.1, gamma=scale, kernel=sigmoid, tol=0.0001;, score=-0.082 total time=   0.2s\n",
      "[CV 8/10] END C=0.1, gamma=scale, kernel=sigmoid, tol=0.0001;, score=-0.111 total time=   0.2s\n",
      "[CV 2/10] END C=1, gamma=0.001, kernel=rbf, tol=0.0001;, score=-0.149 total time=   0.2s\n",
      "[CV 6/10] END C=1, gamma=0.001, kernel=rbf, tol=0.0001;, score=-0.157 total time=   0.2s\n",
      "[CV 10/10] END C=1, gamma=0.001, kernel=rbf, tol=0.0001;, score=-0.059 total time=   0.2s\n",
      "[CV 4/10] END C=1, gamma=0.001, kernel=sigmoid, tol=0.0001;, score=-0.082 total time=   0.2s\n",
      "[CV 7/10] END C=1, gamma=0.001, kernel=sigmoid, tol=0.0001;, score=-0.136 total time=   0.2s\n",
      "[CV 1/10] END C=1, gamma=0.01, kernel=rbf, tol=0.0001;, score=-0.099 total time=   0.2s\n",
      "[CV 6/10] END C=1, gamma=0.01, kernel=rbf, tol=0.0001;, score=-0.157 total time=   0.2s\n",
      "[CV 10/10] END C=1, gamma=0.01, kernel=rbf, tol=0.0001;, score=-0.060 total time=   0.2s\n",
      "[CV 4/10] END C=1, gamma=0.01, kernel=sigmoid, tol=0.0001;, score=-0.082 total time=   0.2s\n",
      "[CV 8/10] END C=1, gamma=0.01, kernel=sigmoid, tol=0.0001;, score=-0.111 total time=   0.2s\n",
      "[CV 1/10] END C=1, gamma=0.1, kernel=rbf, tol=0.0001;, score=-0.099 total time=   0.3s\n",
      "[CV 5/10] END C=1, gamma=0.1, kernel=rbf, tol=0.0001;, score=-0.148 total time=   0.3s\n",
      "[CV 1/10] END C=0.001, gamma=0.001, kernel=rbf, tol=0.0001;, score=-0.099 total time=   0.9s\n",
      "[CV 6/10] END C=0.001, gamma=0.001, kernel=rbf, tol=0.0001;, score=-0.159 total time=   0.5s\n",
      "[CV 3/10] END C=0.001, gamma=0.001, kernel=sigmoid, tol=0.0001;, score=-0.087 total time=   0.3s\n",
      "[CV 6/10] END C=0.001, gamma=0.001, kernel=sigmoid, tol=0.0001;, score=-0.159 total time=   0.4s\n",
      "[CV 1/10] END C=0.001, gamma=0.01, kernel=rbf, tol=0.0001;, score=-0.099 total time=   0.3s\n",
      "[CV 5/10] END C=0.001, gamma=0.01, kernel=rbf, tol=0.0001;, score=-0.148 total time=   0.3s\n",
      "[CV 9/10] END C=0.001, gamma=0.01, kernel=rbf, tol=0.0001;, score=-0.106 total time=   0.3s\n",
      "[CV 4/10] END C=0.001, gamma=0.01, kernel=sigmoid, tol=0.0001;, score=-0.082 total time=   0.2s\n",
      "[CV 9/10] END C=0.001, gamma=0.01, kernel=sigmoid, tol=0.0001;, score=-0.106 total time=   0.2s\n",
      "[CV 3/10] END C=0.001, gamma=0.1, kernel=rbf, tol=0.0001;, score=-0.087 total time=   0.3s\n",
      "[CV 8/10] END C=0.001, gamma=0.1, kernel=rbf, tol=0.0001;, score=-0.111 total time=   0.3s\n",
      "[CV 2/10] END C=0.001, gamma=0.1, kernel=sigmoid, tol=0.0001;, score=-0.148 total time=   0.2s\n",
      "[CV 7/10] END C=0.001, gamma=0.1, kernel=sigmoid, tol=0.0001;, score=-0.136 total time=   0.2s\n",
      "[CV 3/10] END C=0.001, gamma=1, kernel=rbf, tol=0.0001;, score=-0.087 total time=   0.3s\n",
      "[CV 7/10] END C=0.001, gamma=1, kernel=rbf, tol=0.0001;, score=-0.136 total time=   0.3s\n",
      "[CV 2/10] END C=0.001, gamma=1, kernel=sigmoid, tol=0.0001;, score=-0.148 total time=   0.2s\n",
      "[CV 7/10] END C=0.001, gamma=1, kernel=sigmoid, tol=0.0001;, score=-0.136 total time=   0.2s\n",
      "[CV 1/10] END C=0.001, gamma=scale, kernel=rbf, tol=0.0001;, score=-0.099 total time=   0.2s\n",
      "[CV 5/10] END C=0.001, gamma=scale, kernel=rbf, tol=0.0001;, score=-0.148 total time=   0.2s\n",
      "[CV 9/10] END C=0.001, gamma=scale, kernel=rbf, tol=0.0001;, score=-0.106 total time=   0.2s\n",
      "[CV 4/10] END C=0.001, gamma=scale, kernel=sigmoid, tol=0.0001;, score=-0.082 total time=   0.3s\n",
      "[CV 7/10] END C=0.001, gamma=scale, kernel=sigmoid, tol=0.0001;, score=-0.136 total time=   0.3s\n",
      "[CV 1/10] END C=0.01, gamma=0.001, kernel=rbf, tol=0.0001;, score=-0.099 total time=   0.2s\n",
      "[CV 6/10] END C=0.01, gamma=0.001, kernel=rbf, tol=0.0001;, score=-0.159 total time=   0.2s\n",
      "[CV 1/10] END C=0.01, gamma=0.001, kernel=sigmoid, tol=0.0001;, score=-0.099 total time=   0.3s\n",
      "[CV 4/10] END C=0.01, gamma=0.001, kernel=sigmoid, tol=0.0001;, score=-0.082 total time=   0.3s\n",
      "[CV 7/10] END C=0.01, gamma=0.001, kernel=sigmoid, tol=0.0001;, score=-0.136 total time=   0.4s\n",
      "[CV 2/10] END C=0.01, gamma=0.01, kernel=rbf, tol=0.0001;, score=-0.148 total time=   0.3s\n",
      "[CV 7/10] END C=0.01, gamma=0.01, kernel=rbf, tol=0.0001;, score=-0.136 total time=   0.3s\n",
      "[CV 2/10] END C=0.01, gamma=0.01, kernel=sigmoid, tol=0.0001;, score=-0.148 total time=   0.2s\n",
      "[CV 6/10] END C=0.01, gamma=0.01, kernel=sigmoid, tol=0.0001;, score=-0.159 total time=   0.2s\n",
      "[CV 1/10] END C=0.01, gamma=0.1, kernel=rbf, tol=0.0001;, score=-0.099 total time=   0.3s\n",
      "[CV 6/10] END C=0.01, gamma=0.1, kernel=rbf, tol=0.0001;, score=-0.159 total time=   0.3s\n",
      "[CV 1/10] END C=0.01, gamma=0.1, kernel=sigmoid, tol=0.0001;, score=-0.099 total time=   0.2s\n",
      "[CV 4/10] END C=0.01, gamma=0.1, kernel=sigmoid, tol=0.0001;, score=-0.082 total time=   0.2s\n",
      "[CV 9/10] END C=0.01, gamma=0.1, kernel=sigmoid, tol=0.0001;, score=-0.106 total time=   0.3s\n",
      "[CV 4/10] END C=0.01, gamma=1, kernel=rbf, tol=0.0001;, score=-0.082 total time=   0.3s\n",
      "[CV 8/10] END C=0.01, gamma=1, kernel=rbf, tol=0.0001;, score=-0.111 total time=   0.3s\n",
      "[CV 2/10] END C=0.01, gamma=1, kernel=sigmoid, tol=0.0001;, score=-0.148 total time=   0.2s\n",
      "[CV 6/10] END C=0.01, gamma=1, kernel=sigmoid, tol=0.0001;, score=-0.159 total time=   0.2s\n",
      "[CV 1/10] END C=0.01, gamma=scale, kernel=rbf, tol=0.0001;, score=-0.099 total time=   0.3s\n",
      "[CV 6/10] END C=0.01, gamma=scale, kernel=rbf, tol=0.0001;, score=-0.159 total time=   0.3s\n",
      "[CV 2/10] END C=0.01, gamma=scale, kernel=sigmoid, tol=0.0001;, score=-0.148 total time=   0.3s\n",
      "[CV 6/10] END C=0.01, gamma=scale, kernel=sigmoid, tol=0.0001;, score=-0.159 total time=   0.3s\n",
      "[CV 9/10] END C=0.01, gamma=scale, kernel=sigmoid, tol=0.0001;, score=-0.106 total time=   0.3s\n",
      "[CV 4/10] END C=0.1, gamma=0.001, kernel=rbf, tol=0.0001;, score=-0.082 total time=   0.3s\n",
      "[CV 9/10] END C=0.1, gamma=0.001, kernel=rbf, tol=0.0001;, score=-0.106 total time=   0.3s\n",
      "[CV 3/10] END C=0.1, gamma=0.001, kernel=sigmoid, tol=0.0001;, score=-0.087 total time=   0.3s\n",
      "[CV 8/10] END C=0.1, gamma=0.001, kernel=sigmoid, tol=0.0001;, score=-0.111 total time=   0.3s\n",
      "[CV 2/10] END C=0.1, gamma=0.01, kernel=rbf, tol=0.0001;, score=-0.148 total time=   0.2s\n",
      "[CV 8/10] END C=0.1, gamma=0.01, kernel=rbf, tol=0.0001;, score=-0.110 total time=   0.2s\n",
      "[CV 2/10] END C=0.1, gamma=0.01, kernel=sigmoid, tol=0.0001;, score=-0.148 total time=   0.2s\n",
      "[CV 6/10] END C=0.1, gamma=0.01, kernel=sigmoid, tol=0.0001;, score=-0.159 total time=   0.2s\n",
      "[CV 10/10] END C=0.1, gamma=0.01, kernel=sigmoid, tol=0.0001;, score=-0.059 total time=   0.2s\n",
      "[CV 4/10] END C=0.1, gamma=0.1, kernel=rbf, tol=0.0001;, score=-0.082 total time=   0.4s\n",
      "[CV 10/10] END C=0.1, gamma=0.1, kernel=rbf, tol=0.0001;, score=-0.059 total time=   0.4s\n",
      "[CV 5/10] END C=0.1, gamma=0.1, kernel=sigmoid, tol=0.0001;, score=-0.148 total time=   0.3s\n",
      "[CV 1/10] END C=0.1, gamma=1, kernel=rbf, tol=0.0001;, score=-0.099 total time=   0.4s\n",
      "[CV 6/10] END C=0.1, gamma=1, kernel=rbf, tol=0.0001;, score=-0.159 total time=   0.5s\n",
      "[CV 1/10] END C=0.1, gamma=1, kernel=sigmoid, tol=0.0001;, score=-0.099 total time=   0.3s\n",
      "[CV 7/10] END C=0.1, gamma=1, kernel=sigmoid, tol=0.0001;, score=-0.136 total time=   0.2s\n",
      "[CV 1/10] END C=0.1, gamma=scale, kernel=rbf, tol=0.0001;, score=-0.099 total time=   0.4s\n",
      "[CV 6/10] END C=0.1, gamma=scale, kernel=rbf, tol=0.0001;, score=-0.159 total time=   0.2s\n",
      "[CV 1/10] END C=0.1, gamma=scale, kernel=sigmoid, tol=0.0001;, score=-0.099 total time=   0.3s\n",
      "[CV 6/10] END C=0.1, gamma=scale, kernel=sigmoid, tol=0.0001;, score=-0.159 total time=   0.3s\n",
      "[CV 10/10] END C=0.1, gamma=scale, kernel=sigmoid, tol=0.0001;, score=-0.059 total time=   0.3s\n",
      "[CV 4/10] END C=1, gamma=0.001, kernel=rbf, tol=0.0001;, score=-0.083 total time=   0.2s\n",
      "[CV 8/10] END C=1, gamma=0.001, kernel=rbf, tol=0.0001;, score=-0.107 total time=   0.2s\n",
      "[CV 3/10] END C=1, gamma=0.001, kernel=sigmoid, tol=0.0001;, score=-0.087 total time=   0.3s\n",
      "[CV 9/10] END C=1, gamma=0.001, kernel=sigmoid, tol=0.0001;, score=-0.106 total time=   0.3s\n",
      "[CV 3/10] END C=1, gamma=0.01, kernel=rbf, tol=0.0001;, score=-0.086 total time=   0.2s\n",
      "[CV 7/10] END C=1, gamma=0.01, kernel=rbf, tol=0.0001;, score=-0.139 total time=   0.2s\n",
      "[CV 1/10] END C=1, gamma=0.01, kernel=sigmoid, tol=0.0001;, score=-0.099 total time=   0.2s\n",
      "[CV 5/10] END C=1, gamma=0.01, kernel=sigmoid, tol=0.0001;, score=-0.148 total time=   0.2s\n",
      "[CV 9/10] END C=1, gamma=0.01, kernel=sigmoid, tol=0.0001;, score=-0.106 total time=   0.2s\n",
      "[CV 4/10] END C=1, gamma=0.1, kernel=rbf, tol=0.0001;, score=-0.082 total time=   0.4s\n",
      "[CV 9/10] END C=1, gamma=0.1, kernel=rbf, tol=0.0001;, score=-0.106 total time=   0.3s\n",
      "[CV 4/10] END C=1, gamma=0.1, kernel=sigmoid, tol=0.0001;, score=-0.082 total time=   0.2s\n",
      "[CV 9/10] END C=1, gamma=0.1, kernel=sigmoid, tol=0.0001;, score=-0.106 total time=   0.2s\n",
      "[CV 3/10] END C=1, gamma=1, kernel=rbf, tol=0.0001;, score=-0.087 total time=   0.3s\n",
      "[CV 8/10] END C=1, gamma=1, kernel=rbf, tol=0.0001;, score=-0.111 total time=   0.3s\n",
      "[CV 2/10] END C=1, gamma=1, kernel=sigmoid, tol=0.0001;, score=-0.148 total time=   0.2s\n",
      "[CV 6/10] END C=1, gamma=1, kernel=sigmoid, tol=0.0001;, score=-0.159 total time=   0.2s\n",
      "[CV 10/10] END C=1, gamma=1, kernel=sigmoid, tol=0.0001;, score=-0.059 total time=   0.2s\n",
      "[CV 4/10] END C=1, gamma=scale, kernel=rbf, tol=0.0001;, score=-0.082 total time=   0.2s\n",
      "[CV 8/10] END C=1, gamma=scale, kernel=rbf, tol=0.0001;, score=-0.108 total time=   0.2s\n",
      "[CV 2/10] END C=1, gamma=scale, kernel=sigmoid, tol=0.0001;, score=-0.148 total time=   0.3s\n",
      "[CV 7/10] END C=1, gamma=scale, kernel=sigmoid, tol=0.0001;, score=-0.136 total time=   0.3s\n",
      "[CV 1/10] END C=10, gamma=0.001, kernel=rbf, tol=0.0001;, score=-0.085 total time=   0.2s\n"
     ]
    },
    {
     "data": {
      "text/plain": [
       "GridSearchCV(cv=10, estimator=SVR(), n_jobs=-1,\n",
       "             param_grid={'C': [0.001, 0.01, 0.1, 1, 10, 100],\n",
       "                         'gamma': [0.001, 0.01, 0.1, 1, 'scale'],\n",
       "                         'kernel': ['rbf', 'sigmoid'], 'tol': [0.0001]},\n",
       "             verbose=4)"
      ]
     },
     "execution_count": 190,
     "metadata": {},
     "output_type": "execute_result"
    }
   ],
   "source": [
    "svr = SVR()\n",
    "parameters =  { 'kernel' : ['rbf', 'sigmoid'],\n",
    "                 'gamma' : [0.001, 0.01, 0.1, 1, 'scale'],\n",
    "                 'tol' : [0.0001],\n",
    "                 'C': [0.001, 0.01, 0.1, 1, 10, 100] }\n",
    "svr_grid = GridSearchCV(estimator=svr, param_grid=parameters, cv=10, verbose=4, n_jobs=-1)\n",
    "svr_grid.fit(X_train, Y_train.ravel())"
   ]
  },
  {
   "cell_type": "markdown",
   "id": "0e4c80ea",
   "metadata": {},
   "source": [
    "Model Evaluation"
   ]
  },
  {
   "cell_type": "code",
   "execution_count": 191,
   "id": "a7c4812d",
   "metadata": {},
   "outputs": [
    {
     "name": "stdout",
     "output_type": "stream",
     "text": [
      "SVR(C=100, gamma=0.1, tol=0.0001)\n"
     ]
    }
   ],
   "source": [
    "svr = SVR(C=100, gamma=0.1, tol=0.0001)\n",
    "svr.fit(X_train_scaled, Y_train_scaled.ravel())\n",
    "print(svr_grid.best_estimator_)"
   ]
  },
  {
   "cell_type": "code",
   "execution_count": 192,
   "id": "491e0f54",
   "metadata": {},
   "outputs": [
    {
     "name": "stdout",
     "output_type": "stream",
     "text": [
      "R2_score (train) : 0.873\n",
      "R2 score (test) : 0.855\n",
      "Model Score:  0.8549922306741429\n"
     ]
    }
   ],
   "source": [
    "Y_pred_svr_train = svr.predict(X_train_scaled)\n",
    "r2_score_svr_train = r2_score(Y_train_scaled, Y_pred_svr_train)\n",
    "\n",
    "Y_pred_svr_test = svr.predict(X_test_scaled)\n",
    "r2_score_svr_test = r2_score(Y_test_scaled, Y_pred_svr_test)\n",
    "\n",
    "print('R2_score (train) : {0:.3f}'.format(r2_score_svr_train))\n",
    "print('R2 score (test) : {0:.3f}'.format(r2_score_svr_test))\n",
    "print(\"Model Score: \", svr.score(X_test_scaled, Y_test_scaled))"
   ]
  },
  {
   "cell_type": "markdown",
   "id": "cfcf52bf",
   "metadata": {},
   "source": [
    "# Decision Tree"
   ]
  },
  {
   "cell_type": "code",
   "execution_count": 193,
   "id": "4590e037",
   "metadata": {},
   "outputs": [],
   "source": [
    "param= {'max_depth' : (2,3,4,5,6,7,8,9)\n",
    "             \n",
    "              , 'max_features' : (2,3,4,5,6,7,8)\n",
    "              , 'min_samples_split' : (2,4,6,8,10,12)}"
   ]
  },
  {
   "cell_type": "code",
   "execution_count": 194,
   "id": "3647b95b",
   "metadata": {},
   "outputs": [],
   "source": [
    "tree_grid  = GridSearchCV(DecisionTreeRegressor(random_state=42), param_grid=  param, cv = 5, \n",
    "                          verbose = True)"
   ]
  },
  {
   "cell_type": "code",
   "execution_count": 195,
   "id": "58311634",
   "metadata": {},
   "outputs": [
    {
     "name": "stdout",
     "output_type": "stream",
     "text": [
      "Fitting 5 folds for each of 336 candidates, totalling 1680 fits\n"
     ]
    },
    {
     "data": {
      "text/plain": [
       "GridSearchCV(cv=5, estimator=DecisionTreeRegressor(random_state=42),\n",
       "             param_grid={'max_depth': (2, 3, 4, 5, 6, 7, 8, 9),\n",
       "                         'max_features': (2, 3, 4, 5, 6, 7, 8),\n",
       "                         'min_samples_split': (2, 4, 6, 8, 10, 12)},\n",
       "             verbose=True)"
      ]
     },
     "execution_count": 195,
     "metadata": {},
     "output_type": "execute_result"
    }
   ],
   "source": [
    "tree_grid.fit(X_train,Y_train)"
   ]
  },
  {
   "cell_type": "markdown",
   "id": "6c390c27",
   "metadata": {},
   "source": [
    "In a Jupyter environment, please rerun this cell to show the HTML representation or trust the notebook.\n",
    "On GitHub, the HTML representation is unable to render, please try loading this page with nbviewer.org."
   ]
  },
  {
   "cell_type": "code",
   "execution_count": 196,
   "id": "6302d649",
   "metadata": {},
   "outputs": [
    {
     "name": "stdout",
     "output_type": "stream",
     "text": [
      "DecisionTreeRegressor(max_depth=4, max_features=3, random_state=42)\n"
     ]
    }
   ],
   "source": [
    "print(tree_grid.best_estimator_)"
   ]
  },
  {
   "cell_type": "code",
   "execution_count": 197,
   "id": "22922fe0",
   "metadata": {},
   "outputs": [
    {
     "name": "stdout",
     "output_type": "stream",
     "text": [
      "0.8555469163044708\n"
     ]
    }
   ],
   "source": [
    "tree_best = DecisionTreeRegressor(max_depth=4, max_features=3, min_samples_split=12,\n",
    "                      random_state=42)\n",
    "tree_best.fit(X_train, Y_train)\n",
    "predict_tree = tree_best.predict(X_test)\n",
    "print(r2_score(Y_test, predict_tree))"
   ]
  },
  {
   "cell_type": "code",
   "execution_count": 198,
   "id": "35cc75f1",
   "metadata": {},
   "outputs": [
    {
     "name": "stdout",
     "output_type": "stream",
     "text": [
      "R2_score (train): 0.8626030345502159\n",
      "R 2_score (test):  0.8555469163044708\n",
      "Model Score:  0.8555469163044708\n"
     ]
    }
   ],
   "source": [
    "tree_best = DecisionTreeRegressor(max_depth=4, max_features=3, min_samples_split=12,\n",
    "                      random_state=42)\n",
    "tree_best.fit(X_train, Y_train)\n",
    "\n",
    "Y_pred_tree_train = tree_best.predict(X_train)\n",
    "r2_score_tree_train = r2_score(Y_train, Y_pred_tree_train)\n",
    "\n",
    "Y_pred_tree_test = tree_best.predict(X_test)\n",
    "r2_score_tree_test = r2_score(Y_test, Y_pred_tree_test)\n",
    "\n",
    "print('R2_score (train):', r2_score_tree_train)\n",
    "print('R 2_score (test): ',r2_score_tree_test )\n",
    "print(\"Model Score: \", tree_best.score(X_test, Y_test))"
   ]
  },
  {
   "cell_type": "markdown",
   "id": "e9e05594",
   "metadata": {},
   "source": [
    "# RandomForest Regressor"
   ]
  },
  {
   "cell_type": "code",
   "execution_count": 199,
   "id": "290caae6",
   "metadata": {},
   "outputs": [],
   "source": [
    "param= {'max_depth' : (2,3,4,5,6,7,8,9)\n",
    "             \n",
    "              , 'max_features' : (2,3,4,5,6,7,8)\n",
    "              , 'min_samples_split' : (2,4,6,8,10,12)\n",
    "             }"
   ]
  },
  {
   "cell_type": "code",
   "execution_count": 200,
   "id": "4752aad6",
   "metadata": {},
   "outputs": [],
   "source": [
    "rnd_grid  = RandomizedSearchCV(RandomForestRegressor(random_state= 42), param_distributions=  param, cv = 5, \n",
    "                          verbose = True)"
   ]
  },
  {
   "cell_type": "code",
   "execution_count": 201,
   "id": "e7e941f4",
   "metadata": {},
   "outputs": [
    {
     "name": "stdout",
     "output_type": "stream",
     "text": [
      "Fitting 5 folds for each of 10 candidates, totalling 50 fits\n"
     ]
    },
    {
     "data": {
      "text/plain": [
       "RandomizedSearchCV(cv=5, estimator=RandomForestRegressor(random_state=42),\n",
       "                   param_distributions={'max_depth': (2, 3, 4, 5, 6, 7, 8, 9),\n",
       "                                        'max_features': (2, 3, 4, 5, 6, 7, 8),\n",
       "                                        'min_samples_split': (2, 4, 6, 8, 10,\n",
       "                                                              12)},\n",
       "                   verbose=True)"
      ]
     },
     "execution_count": 201,
     "metadata": {},
     "output_type": "execute_result"
    }
   ],
   "source": [
    "rnd_grid.fit(X_train, Y_train)"
   ]
  },
  {
   "cell_type": "code",
   "execution_count": 202,
   "id": "f4a173fb",
   "metadata": {},
   "outputs": [
    {
     "name": "stdout",
     "output_type": "stream",
     "text": [
      "RandomForestRegressor(max_depth=5, max_features=6, random_state=42)\n"
     ]
    }
   ],
   "source": [
    "print(rnd_grid.best_estimator_)"
   ]
  },
  {
   "cell_type": "code",
   "execution_count": 203,
   "id": "da921a7f",
   "metadata": {},
   "outputs": [
    {
     "data": {
      "text/plain": [
       "0.865228489995567"
      ]
     },
     "execution_count": 203,
     "metadata": {},
     "output_type": "execute_result"
    }
   ],
   "source": [
    "predict_rnd = rnd_best.predict(X_test)\n",
    "r2_score(Y_test, predict_rnd)"
   ]
  },
  {
   "cell_type": "code",
   "execution_count": 204,
   "id": "eaf8de49",
   "metadata": {},
   "outputs": [
    {
     "name": "stdout",
     "output_type": "stream",
     "text": [
      "R2_score (train): 0.8991555172363184\n",
      "R 2_score (test):  0.865228489995567\n",
      "Model Score:  0.865228489995567\n"
     ]
    }
   ],
   "source": [
    "rnd_best = RandomForestRegressor(max_depth=6, max_features=4, min_samples_split=8,\n",
    "                      random_state=42)\n",
    "rnd_best.fit(X_train, Y_train)\n",
    "\n",
    "Y_pred_rnd_train = rnd_best.predict(X_train)\n",
    "r2_score_rnd_train = r2_score(Y_train, Y_pred_rnd_train)\n",
    "\n",
    "Y_pred_rnd_test = rnd_best.predict(X_test)\n",
    "r2_score_rnd_test = r2_score(Y_test, Y_pred_rnd_test)\n",
    "\n",
    "print('R2_score (train):', r2_score_rnd_train)\n",
    "print('R 2_score (test): ',r2_score_rnd_test )\n",
    "print(\"Model Score: \", rnd_best.score(X_test, Y_test))"
   ]
  },
  {
   "cell_type": "markdown",
   "id": "c06c04cb",
   "metadata": {},
   "source": [
    "# Models Comparison"
   ]
  },
  {
   "cell_type": "code",
   "execution_count": 205,
   "id": "5ea8429d",
   "metadata": {},
   "outputs": [],
   "source": [
    "models = [('Linear Regression',regressor.score(X_test, Y_test), r2_train, r2_test),\n",
    "          ('Support Vector Regression',svr.score(X_test_scaled, Y_test_scaled), r2_score_svr_train, r2_score_svr_test),\n",
    "          ('Decision Tree',tree_best.score(X_test, Y_test),  r2_score_tree_train, r2_score_tree_test),\n",
    "          ('Random Forest Regression',rnd_best.score(X_test,Y_test), r2_score_rnd_train, r2_score_rnd_test)   \n",
    "         ]"
   ]
  },
  {
   "cell_type": "code",
   "execution_count": 206,
   "id": "b9174522",
   "metadata": {},
   "outputs": [
    {
     "data": {
      "text/html": [
       "<div>\n",
       "<style scoped>\n",
       "    .dataframe tbody tr th:only-of-type {\n",
       "        vertical-align: middle;\n",
       "    }\n",
       "\n",
       "    .dataframe tbody tr th {\n",
       "        vertical-align: top;\n",
       "    }\n",
       "\n",
       "    .dataframe thead th {\n",
       "        text-align: right;\n",
       "    }\n",
       "</style>\n",
       "<table border=\"1\" class=\"dataframe\">\n",
       "  <thead>\n",
       "    <tr style=\"text-align: right;\">\n",
       "      <th></th>\n",
       "      <th>Model</th>\n",
       "      <th>Model Score</th>\n",
       "      <th>R2_Score(training)</th>\n",
       "      <th>R2_Score(test)</th>\n",
       "    </tr>\n",
       "  </thead>\n",
       "  <tbody>\n",
       "    <tr>\n",
       "      <th>0</th>\n",
       "      <td>Linear Regression</td>\n",
       "      <td>0.744727</td>\n",
       "      <td>0.751506</td>\n",
       "      <td>0.744727</td>\n",
       "    </tr>\n",
       "    <tr>\n",
       "      <th>1</th>\n",
       "      <td>Support Vector Regression</td>\n",
       "      <td>0.854992</td>\n",
       "      <td>0.873364</td>\n",
       "      <td>0.854992</td>\n",
       "    </tr>\n",
       "    <tr>\n",
       "      <th>2</th>\n",
       "      <td>Decision Tree</td>\n",
       "      <td>0.855547</td>\n",
       "      <td>0.862603</td>\n",
       "      <td>0.855547</td>\n",
       "    </tr>\n",
       "    <tr>\n",
       "      <th>3</th>\n",
       "      <td>Random Forest Regression</td>\n",
       "      <td>0.865228</td>\n",
       "      <td>0.899156</td>\n",
       "      <td>0.865228</td>\n",
       "    </tr>\n",
       "  </tbody>\n",
       "</table>\n",
       "</div>"
      ],
      "text/plain": [
       "                       Model  Model Score  R2_Score(training)  R2_Score(test)\n",
       "0          Linear Regression     0.744727            0.751506        0.744727\n",
       "1  Support Vector Regression     0.854992            0.873364        0.854992\n",
       "2              Decision Tree     0.855547            0.862603        0.855547\n",
       "3   Random Forest Regression     0.865228            0.899156        0.865228"
      ]
     },
     "execution_count": 206,
     "metadata": {},
     "output_type": "execute_result"
    }
   ],
   "source": [
    "predict = pd.DataFrame(data = models, columns=['Model','Model Score','R2_Score(training)', 'R2_Score(test)'])\n",
    "predict"
   ]
  },
  {
   "cell_type": "code",
   "execution_count": 207,
   "id": "a62bf7bc",
   "metadata": {},
   "outputs": [
    {
     "data": {
      "image/png": "[encoded data removed]",
      "text/plain": [
       "<Figure size 864x504 with 1 Axes>"
      ]
     },
     "metadata": {},
     "output_type": "display_data"
    }
   ],
   "source": [
    "plt.figure(figsize=(12,7))\n",
    "predict.sort_values(by=['Model Score'], ascending=False, inplace=True)\n",
    "\n",
    "sns.barplot(x='Model Score', y='Model',data = predict, palette='Reds')\n",
    "plt.xlabel('Model Score')\n",
    "plt.ylabel('Model')\n",
    "plt.show()"
   ]
  },
  {
   "cell_type": "markdown",
   "id": "36917965",
   "metadata": {},
   "source": [
    "# Building a Predictive System"
   ]
  },
  {
   "cell_type": "markdown",
   "id": "52a37518",
   "metadata": {},
   "source": [
    "31 years old female with a bmi of 25.74 who does'nt have any children who smokes and lives in the Southeast"
   ]
  },
  {
   "cell_type": "code",
   "execution_count": 208,
   "id": "8c5548b1",
   "metadata": {},
   "outputs": [
    {
     "name": "stdout",
     "output_type": "stream",
     "text": [
      "The insurance cost is USD  3760.080576496046\n"
     ]
    }
   ],
   "source": [
    "input_data = (31,1,25.74,0,1,0)\n",
    "\n",
    "# changing input_data to a numpy array\n",
    "input_data_as_numpy_array = np.asarray(input_data)\n",
    "\n",
    "# reshape the array\n",
    "input_data_reshaped = input_data_as_numpy_array.reshape(1,-1)\n",
    "\n",
    "prediction = regressor.predict(input_data_reshaped)\n",
    "\n",
    "print('The insurance cost is USD ', prediction[0])"
   ]
  },
  {
   "cell_type": "markdown",
   "id": "7ab1c9c7",
   "metadata": {},
   "source": [
    "# Conclusion and Observations"
   ]
  },
  {
   "cell_type": "markdown",
   "id": "ce79ddbb",
   "metadata": {},
   "source": [
    "* Smoking is the biggest factor influencing medical cost fees, followed by body mass index and age.\n",
    "* The insurance cost of a non-smoker is less than that of a smoker.\n",
    "* The higher the age, the higher the insurance cost value.\n",
    "* Regional differences and gender do not have a significant impact on insurance costs."
   ]
  },
  {
   "cell_type": "markdown",
   "id": "b953d6c5",
   "metadata": {},
   "source": [
    "# Saving the models"
   ]
  },
  {
   "cell_type": "markdown",
   "id": "0b0e1535",
   "metadata": {},
   "source": [
    "# Linear Regression"
   ]
  },
  {
   "cell_type": "code",
   "execution_count": 209,
   "id": "c244837e",
   "metadata": {},
   "outputs": [],
   "source": [
    "import pickle\n",
    "\n",
    "Pkl_Filename = \"LinearRegression.pkl\"  \n",
    "\n",
    "with open(Pkl_Filename, 'wb') as file:  \n",
    "    pickle.dump(regressor, file)"
   ]
  },
  {
   "cell_type": "markdown",
   "id": "5a5f182d",
   "metadata": {},
   "source": [
    "Load the Model back from file\n"
   ]
  },
  {
   "cell_type": "code",
   "execution_count": 210,
   "id": "bd2ae6df",
   "metadata": {},
   "outputs": [],
   "source": [
    "with open(Pkl_Filename, 'rb') as file:  \n",
    "    model1 = pickle.load(file)"
   ]
  },
  {
   "cell_type": "code",
   "execution_count": 211,
   "id": "dff093dd",
   "metadata": {},
   "outputs": [
    {
     "data": {
      "text/plain": [
       "LinearRegression()"
      ]
     },
     "execution_count": 211,
     "metadata": {},
     "output_type": "execute_result"
    }
   ],
   "source": [
    "model1 "
   ]
  },
  {
   "cell_type": "markdown",
   "id": "f5a19fee",
   "metadata": {},
   "source": [
    "# Support Vector Regression"
   ]
  },
  {
   "cell_type": "code",
   "execution_count": 212,
   "id": "291a1b83",
   "metadata": {},
   "outputs": [
    {
     "data": {
      "text/plain": [
       "SVR(C=100, gamma=0.1, tol=0.0001)"
      ]
     },
     "execution_count": 212,
     "metadata": {},
     "output_type": "execute_result"
    }
   ],
   "source": [
    "import pickle\n",
    "\n",
    "Pkl_Filename = \"SupportVectorMachines.pkl\"  \n",
    "\n",
    "with open(Pkl_Filename, 'wb') as file:  \n",
    "    pickle.dump(svr, file)\n",
    "    \n",
    "with open(Pkl_Filename, 'rb') as file:  \n",
    "    model2 = pickle.load(file)\n",
    "\n",
    "model2"
   ]
  },
  {
   "cell_type": "markdown",
   "id": "6d12f2f9",
   "metadata": {},
   "source": [
    "# Decision Tree Regression"
   ]
  },
  {
   "cell_type": "code",
   "execution_count": 213,
   "id": "5989d24f",
   "metadata": {},
   "outputs": [
    {
     "data": {
      "text/plain": [
       "DecisionTreeRegressor(max_depth=4, max_features=3, min_samples_split=12,\n",
       "                      random_state=42)"
      ]
     },
     "execution_count": 213,
     "metadata": {},
     "output_type": "execute_result"
    }
   ],
   "source": [
    "import pickle\n",
    "\n",
    "Pkl_Filename = \"DecisionTree.pkl\"  \n",
    "\n",
    "with open(Pkl_Filename, 'wb') as file:  \n",
    "    pickle.dump(tree_best, file)\n",
    "    \n",
    "with open(Pkl_Filename, 'rb') as file:  \n",
    "    model3 = pickle.load(file)\n",
    "\n",
    "model3"
   ]
  },
  {
   "cell_type": "markdown",
   "id": "5fdee952",
   "metadata": {},
   "source": [
    "# Random Forest Regression"
   ]
  },
  {
   "cell_type": "code",
   "execution_count": 214,
   "id": "903bf591",
   "metadata": {},
   "outputs": [
    {
     "data": {
      "text/plain": [
       "RandomForestRegressor(max_depth=6, max_features=4, min_samples_split=8,\n",
       "                      random_state=42)"
      ]
     },
     "execution_count": 214,
     "metadata": {},
     "output_type": "execute_result"
    }
   ],
   "source": [
    "import pickle\n",
    "\n",
    "Pkl_Filename = \"RandomForest.pkl\"  \n",
    "\n",
    "with open(Pkl_Filename, 'wb') as file:  \n",
    "    pickle.dump(rnd_best, file)\n",
    "    \n",
    "with open(Pkl_Filename, 'rb') as file:  \n",
    "    model4 = pickle.load(file)\n",
    "\n",
    "model4"
   ]
  },
  {
   "cell_type": "markdown",
   "id": "c81bb58a",
   "metadata": {},
   "source": [
    "# Conclusion and Observations"
   ]
  },
  {
   "cell_type": "markdown",
   "id": "1c2e08e7",
   "metadata": {},
   "source": [
    "Random Forest Model gave the highest accuracy of 86% for the Health Insurance Amount Estimation. Hence, the Random Forest Model will be used for deployment. "
   ]
  }
 ],
 "metadata": {
  "kernelspec": {
   "display_name": "Python 3 (ipykernel)",
   "language": "python",
   "name": "python3"
  },
  "language_info": {
   "codemirror_mode": {
    "name": "ipython",
    "version": 3
   },
   "file_extension": ".py",
   "mimetype": "text/x-python",
   "name": "python",
   "nbconvert_exporter": "python",
   "pygments_lexer": "ipython3",
   "version": "3.9.12"
  }
 },
 "nbformat": 4,
 "nbformat_minor": 5
}
